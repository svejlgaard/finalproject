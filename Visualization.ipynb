{
 "cells": [
  {
   "cell_type": "code",
   "execution_count": 16,
   "metadata": {},
   "outputs": [
    {
     "name": "stdout",
     "output_type": "stream",
     "text": [
      "What is your name? [Simone/Jonathan/Marcus/Runi]Jonathan\n"
     ]
    }
   ],
   "source": [
    "%run -i \"loaddata.py\"\n",
    "plt.rcParams[\"font.size\"] = 16\n",
    "import scipy.stats as st\n",
    "save = True"
   ]
  },
  {
   "cell_type": "code",
   "execution_count": 17,
   "metadata": {},
   "outputs": [
    {
     "data": {
      "text/plain": [
       "{}"
      ]
     },
     "execution_count": 17,
     "metadata": {},
     "output_type": "execute_result"
    }
   ],
   "source": [
    "data_dict"
   ]
  },
  {
   "cell_type": "markdown",
   "metadata": {},
   "source": [
    "### The timeseries"
   ]
  },
  {
   "cell_type": "code",
   "execution_count": 12,
   "metadata": {},
   "outputs": [
    {
     "ename": "IndexError",
     "evalue": "tuple index out of range",
     "output_type": "error",
     "traceback": [
      "\u001b[1;31m---------------------------------------------------------------------------\u001b[0m",
      "\u001b[1;31mIndexError\u001b[0m                                Traceback (most recent call last)",
      "\u001b[1;32m~\\Documents\\GitHub\\finalproject\\loaddata.py\u001b[0m in \u001b[0;36m<module>\u001b[1;34m\u001b[0m\n\u001b[0;32m      4\u001b[0m \u001b[0mx\u001b[0m \u001b[1;33m=\u001b[0m \u001b[0mnp\u001b[0m\u001b[1;33m.\u001b[0m\u001b[0marray\u001b[0m\u001b[1;33m(\u001b[0m\u001b[1;33m[\u001b[0m\u001b[0mdata_dict\u001b[0m\u001b[1;33m[\u001b[0m\u001b[0mkeys\u001b[0m\u001b[1;33m[\u001b[0m\u001b[0mi\u001b[0m\u001b[1;33m]\u001b[0m\u001b[1;33m]\u001b[0m\u001b[1;33m[\u001b[0m\u001b[1;33m:\u001b[0m\u001b[1;33m,\u001b[0m\u001b[1;36m0\u001b[0m\u001b[1;33m]\u001b[0m \u001b[1;32mfor\u001b[0m \u001b[0mi\u001b[0m \u001b[1;32min\u001b[0m \u001b[0mrange\u001b[0m\u001b[1;33m(\u001b[0m\u001b[0mlen\u001b[0m\u001b[1;33m(\u001b[0m\u001b[0mkeys\u001b[0m\u001b[1;33m)\u001b[0m\u001b[1;33m)\u001b[0m\u001b[1;33m]\u001b[0m\u001b[1;33m)\u001b[0m\u001b[1;33m\u001b[0m\u001b[1;33m\u001b[0m\u001b[0m\n\u001b[0;32m      5\u001b[0m \u001b[0my\u001b[0m \u001b[1;33m=\u001b[0m \u001b[0mnp\u001b[0m\u001b[1;33m.\u001b[0m\u001b[0marray\u001b[0m\u001b[1;33m(\u001b[0m\u001b[1;33m[\u001b[0m\u001b[0mdata_dict\u001b[0m\u001b[1;33m[\u001b[0m\u001b[0mkeys\u001b[0m\u001b[1;33m[\u001b[0m\u001b[0mi\u001b[0m\u001b[1;33m]\u001b[0m\u001b[1;33m]\u001b[0m\u001b[1;33m[\u001b[0m\u001b[1;33m:\u001b[0m\u001b[1;33m,\u001b[0m\u001b[1;36m1\u001b[0m\u001b[1;33m]\u001b[0m \u001b[1;32mfor\u001b[0m \u001b[0mi\u001b[0m \u001b[1;32min\u001b[0m \u001b[0mrange\u001b[0m\u001b[1;33m(\u001b[0m\u001b[0mlen\u001b[0m\u001b[1;33m(\u001b[0m\u001b[0mkeys\u001b[0m\u001b[1;33m)\u001b[0m\u001b[1;33m)\u001b[0m\u001b[1;33m]\u001b[0m\u001b[1;33m)\u001b[0m\u001b[1;33m\u001b[0m\u001b[1;33m\u001b[0m\u001b[0m\n\u001b[1;32m----> 6\u001b[1;33m \u001b[0mfeatures\u001b[0m \u001b[1;33m=\u001b[0m \u001b[0mdata_dict\u001b[0m\u001b[1;33m[\u001b[0m\u001b[0mall_keys\u001b[0m\u001b[1;33m[\u001b[0m\u001b[1;36m1\u001b[0m\u001b[1;33m]\u001b[0m\u001b[1;33m]\u001b[0m\u001b[1;33m\u001b[0m\u001b[1;33m\u001b[0m\u001b[0m\n\u001b[0m",
      "\u001b[1;31mIndexError\u001b[0m: tuple index out of range"
     ]
    }
   ],
   "source": [
    "all_keys = tuple(data_dict.keys())\n",
    "keys = [all_keys[i] for i in range(len(all_keys)) if i%2==0]\n",
    "\n",
    "x = np.array([data_dict[keys[i]][:,0] for i in range(len(keys))])\n",
    "y = np.array([data_dict[keys[i]][:,1] for i in range(len(keys))])\n",
    "features = data_dict[all_keys[1]]"
   ]
  },
  {
   "cell_type": "code",
   "execution_count": null,
   "metadata": {},
   "outputs": [],
   "source": [
    "fig = plt.figure(figsize=(13,8))\n",
    "for i in range(4):\n",
    "    plt.plot(y[i], label=keys[i])\n",
    "plt.legend()\n",
    "plt.tight_layout()\n",
    "plt.show()\n",
    "\n",
    "if save:\n",
    "    fig.savefig(\"figs/RVS.pdf\")"
   ]
  },
  {
   "cell_type": "markdown",
   "metadata": {},
   "source": [
    "### Stacked histograms of feature distributions"
   ]
  },
  {
   "cell_type": "code",
   "execution_count": null,
   "metadata": {},
   "outputs": [],
   "source": [
    "fig = plt.figure(figsize=(12,14))\n",
    "for i in range( data_dict[keys[0]].shape[1] ):\n",
    "    plt.subplot(6,5,i+1)\n",
    "    # Mask to remove 0\n",
    "    mask = [ data_dict[keys[0]][:,i] != 0., data_dict[keys[1]][:,i] != 0., \n",
    "            data_dict[keys[2]][:,i] != 0., data_dict[keys[3]][:,i] != 0. ]\n",
    "    if i == 0:\n",
    "        plt.hist([data_dict[keys[0]][mask[0],i], data_dict[keys[1]][mask[1],i], \n",
    "                  data_dict[keys[2]][mask[2],i], data_dict[keys[3]][mask[3],i]], \n",
    "                 histtype='barstacked', align='left', bins=20)\n",
    "    else:\n",
    "        plt.hist([data_dict[keys[0]][mask[0],i], data_dict[keys[1]][mask[1],i], \n",
    "                  data_dict[keys[2]][mask[2],i], data_dict[keys[3]][mask[3],i]], \n",
    "                 histtype='barstacked', align='left')\n",
    "plt.tight_layout()\n",
    "plt.show()\n",
    "\n",
    "if save:\n",
    "    fig.savefig(\"figs/features_hist.pdf\")"
   ]
  },
  {
   "cell_type": "markdown",
   "metadata": {},
   "source": [
    "### RVS correlations"
   ]
  },
  {
   "cell_type": "code",
   "execution_count": null,
   "metadata": {},
   "outputs": [],
   "source": [
    "fig = plt.figure(figsize=(12,25))\n",
    "for i in range(3,data_dict[keys[0]].shape[1]):\n",
    "    plt.subplot(9,3,i-2)\n",
    "    for key in keys:\n",
    "        mask = (data_dict[key][:,i] != 0.) & (np.isnan(data_dict[key][:,i])!=True )\n",
    "        plt.scatter(data_dict[key][mask,i], data_dict[key][mask,1], s=5, label=f\"var: {np.var(data_dict[key][mask,i]):.2e}\")\n",
    "        ax = plt.gca()\n",
    "        \n",
    "        if i%3!=0:\n",
    "            ax.axes.get_yaxis().set_visible(False)\n",
    "    if i%3==0:\n",
    "        plt.ylabel(\"RVS\")\n",
    "    plt.xlabel(features[i], fontsize=9)\n",
    "        \n",
    "    plt.legend(fontsize=9)\n",
    "plt.tight_layout()\n",
    "plt.show()\n",
    "\n",
    "if save:\n",
    "    fig.savefig(\"figs/correlations.pdf\")"
   ]
  },
  {
   "cell_type": "markdown",
   "metadata": {},
   "source": [
    "### Parameters vs. time"
   ]
  },
  {
   "cell_type": "code",
   "execution_count": null,
   "metadata": {
    "scrolled": false
   },
   "outputs": [],
   "source": [
    "l = [len(data_dict[key]) for key in keys]\n",
    "x = {}\n",
    "for i in range(len(keys)):\n",
    "    x[keys[i]] = np.arange(sum(l[:i]), sum(l[:i+1]))\n",
    "\n",
    "fig = plt.figure(figsize=(12,25))\n",
    "for i in range(3,data_dict[keys[0]].shape[1]):\n",
    "    plt.subplot(9,3,i-2)\n",
    "    for key in keys:\n",
    "        mask = (data_dict[key][:,i] != 0.) & (np.isnan(data_dict[key][:,i])!=True )\n",
    "        plt.scatter(x[key][mask], data_dict[key][mask,i], s=5)\n",
    "        ax = plt.gca()\n",
    "\n",
    "    plt.title(features[i], fontsize=9)\n",
    "plt.tight_layout()\n",
    "plt.show()\n",
    "\n",
    "if save:\n",
    "    fig.savefig(\"figs/parameter_vs_time.pdf\")"
   ]
  },
  {
   "cell_type": "markdown",
   "metadata": {},
   "source": [
    "### Variance between RVS values for the same tempreture/pressure timestamp"
   ]
  },
  {
   "cell_type": "code",
   "execution_count": null,
   "metadata": {},
   "outputs": [],
   "source": [
    "data_sort = [[]*len(keys)]\n",
    "# for i in range(len(keys)):\n",
    "data_sort"
   ]
  },
  {
   "cell_type": "markdown",
   "metadata": {},
   "source": [
    "### t-SNE"
   ]
  },
  {
   "cell_type": "code",
   "execution_count": null,
   "metadata": {},
   "outputs": [],
   "source": [
    "def remove_nan(X, y):\n",
    "    remove = np.isnan(X)[:,0]\n",
    "    remove1 = [i for i in range(len(remove)) if remove[i]==False]\n",
    "    return X[remove1,:], y[remove1]"
   ]
  },
  {
   "cell_type": "code",
   "execution_count": null,
   "metadata": {},
   "outputs": [],
   "source": [
    "from sklearn.manifold import TSNE\n",
    "# Collect all data in a single array\n",
    "data = data_dict[keys[0]]\n",
    "for i in range(1,4):\n",
    "    data = np.append(data, data_dict[keys[i]],axis=0)\n",
    "    \n",
    "y_labels = data[:,1]\n",
    "X = data[:,3:]\n",
    "\n",
    "# Remove nan\n",
    "X, y_labels = remove_nan(X, y_labels)\n",
    "\n",
    "tsne = TSNE(n_components = 2, n_jobs=-1, verbose=0, random_state=42)\n",
    "tsne_data = tsne.fit_transform(X)"
   ]
  },
  {
   "cell_type": "code",
   "execution_count": null,
   "metadata": {},
   "outputs": [],
   "source": [
    "fig = plt.figure(figsize=(11,6))\n",
    "plt.title(\"t-SNE dimensionality reduction\")\n",
    "plt.scatter(tsne_data[:,0], tsne_data[:,1], s=15, c = y_labels, label=\"Color shows RV value\")\n",
    "plt.xlabel(\"t-SNE component 1\")\n",
    "plt.ylabel(\"t-SNE component 2\")\n",
    "plt.colorbar()\n",
    "plt.legend()\n",
    "plt.tight_layout()\n",
    "plt.show()\n",
    "\n",
    "if save:\n",
    "    fig.savefig(\"figs/t-SNE.pdf\")"
   ]
  }
 ],
 "metadata": {
  "kernelspec": {
   "display_name": "Python 3",
   "language": "python",
   "name": "python3"
  },
  "language_info": {
   "codemirror_mode": {
    "name": "ipython",
    "version": 3
   },
   "file_extension": ".py",
   "mimetype": "text/x-python",
   "name": "python",
   "nbconvert_exporter": "python",
   "pygments_lexer": "ipython3",
   "version": "3.7.6"
  }
 },
 "nbformat": 4,
 "nbformat_minor": 4
}
