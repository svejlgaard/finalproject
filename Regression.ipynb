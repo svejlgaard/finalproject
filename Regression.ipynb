{
 "cells": [
  {
   "cell_type": "code",
   "execution_count": 2,
   "metadata": {},
   "outputs": [],
   "source": [
    "import numpy as np\n",
    "import matplotlib.pyplot as plt\n",
    "import pandas as pd"
   ]
  },
  {
   "cell_type": "code",
   "execution_count": 5,
   "metadata": {},
   "outputs": [],
   "source": [
    "df1 = pd.read_csv('data\\etalon_jitter_16Mar20_etalon.ccfSum-telemetry.csv')\n",
    "df2 = pd.read_csv('data\\etalon_jitter_18Mar20_etalon.ccfSum-telemetry.csv')\n",
    "df3 = pd.read_csv('data\\etalon_jitter_26Mar20_Cryo_etalon.ccfSum-telemetry.csv')\n",
    "df4 = pd.read_csv('data\\etalon_jitter_26Mar_whitebox_etalon.ccfSum-telemetry.csv')"
   ]
  },
  {
   "cell_type": "code",
   "execution_count": 16,
   "metadata": {},
   "outputs": [],
   "source": [
    "frames = [df1, df2, df3, df4]\n",
    "data = np.array(pd.concat(frames))"
   ]
  },
  {
   "cell_type": "code",
   "execution_count": 7,
   "metadata": {},
   "outputs": [],
   "source": [
    "# jd = np.array((result['JD_UTC']))\n",
    "\n",
    "#print(df1['JD_UTC'][0])\n",
    "# print(df2['JD_UTC'][10])\n",
    "# print(df3['JD_UTC'][10])\n",
    "# print(df4['JD_UTC'][10])\n",
    "\n",
    "# print(jd[10], jd[len(df1)+10], jd[len(df1)+len(df2)+10], jd[len(df1)+len(df2)+len(df3)+10])"
   ]
  },
  {
   "cell_type": "code",
   "execution_count": 66,
   "metadata": {},
   "outputs": [],
   "source": [
    "names_temp = np.array(df1.axes)\n",
    "names = []\n",
    "for i in range(len(names_temp[1])):\n",
    "    names.append(names_temp[1][i])\n",
    "names = np.array(names)\n",
    "\n",
    "data = names,data\n",
    "data = np.array(data)"
   ]
  },
  {
   "cell_type": "markdown",
   "metadata": {},
   "source": [
    "## Regression"
   ]
  },
  {
   "cell_type": "code",
   "execution_count": 81,
   "metadata": {},
   "outputs": [
    {
     "data": {
      "text/plain": [
       "(410, 26)"
      ]
     },
     "execution_count": 81,
     "metadata": {},
     "output_type": "execute_result"
    }
   ],
   "source": [
    "test = np.array(df4)[:,2:]\n",
    "training = np.array()"
   ]
  }
 ],
 "metadata": {
  "kernelspec": {
   "display_name": "Python 3",
   "language": "python",
   "name": "python3"
  },
  "language_info": {
   "codemirror_mode": {
    "name": "ipython",
    "version": 3
   },
   "file_extension": ".py",
   "mimetype": "text/x-python",
   "name": "python",
   "nbconvert_exporter": "python",
   "pygments_lexer": "ipython3",
   "version": "3.7.7"
  }
 },
 "nbformat": 4,
 "nbformat_minor": 4
}
