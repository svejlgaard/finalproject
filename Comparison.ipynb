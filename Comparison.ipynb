{
  "nbformat": 4,
  "nbformat_minor": 0,
  "metadata": {
    "colab": {
      "name": "Comparison.ipynb",
      "provenance": [],
      "collapsed_sections": [],
      "mount_file_id": "1_jmEhVxIv2f3Ra5ljMtg6MnpKetGJuFR",
      "authorship_tag": "ABX9TyMik++QxBJ8+x840LHFd2nM"
    },
    "kernelspec": {
      "name": "python3",
      "display_name": "Python 3"
    },
    "accelerator": "GPU"
  },
  "cells": [
    {
      "cell_type": "code",
      "metadata": {
        "id": "nzKtPhy6Fpy9",
        "colab_type": "code",
        "outputId": "a9c3df82-32d6-4d06-bc68-b6858acc43a5",
        "colab": {
          "base_uri": "https://localhost:8080/",
          "height": 713
        }
      },
      "source": [
        "%pip install bayesian-optimization\n",
        "%pip install livelossplot\n",
        "%pip install lightgbm\n",
        "\n",
        "import matplotlib.pyplot as plt\n",
        "import numpy as np\n",
        "import os, contextlib, sys\n",
        "import torch\n",
        "import torch.nn as nn\n",
        "import torch.nn.functional as F\n",
        "import torch.optim as optim\n",
        "from sklearn import linear_model\n",
        "from sklearn.metrics import explained_variance_score, r2_score\n",
        "from sklearn.preprocessing import quantile_transform, StandardScaler, RobustScaler\n",
        "from bayes_opt import BayesianOptimization\n",
        "from sklearn.model_selection import KFold, cross_val_score\n",
        "from sklearn.feature_selection import SelectKBest, f_regression\n",
        "from sklearn.neural_network import MLPRegressor\n",
        "from livelossplot import PlotLosses\n",
        "import xgboost as xgb\n",
        "import lightgbm as lgb\n",
        "\n",
        "%cd /content/drive/My\\ Drive/Colab\\ Notebooks\n",
        "\n",
        "np.random.seed(seed=1)"
      ],
      "execution_count": 24,
      "outputs": [
        {
          "output_type": "stream",
          "text": [
            "Requirement already satisfied: bayesian-optimization in /usr/local/lib/python3.6/dist-packages (1.2.0)\n",
            "Requirement already satisfied: scipy>=0.14.0 in /usr/local/lib/python3.6/dist-packages (from bayesian-optimization) (1.4.1)\n",
            "Requirement already satisfied: numpy>=1.9.0 in /usr/local/lib/python3.6/dist-packages (from bayesian-optimization) (1.18.4)\n",
            "Requirement already satisfied: scikit-learn>=0.18.0 in /usr/local/lib/python3.6/dist-packages (from bayesian-optimization) (0.22.2.post1)\n",
            "Requirement already satisfied: joblib>=0.11 in /usr/local/lib/python3.6/dist-packages (from scikit-learn>=0.18.0->bayesian-optimization) (0.15.1)\n",
            "Requirement already satisfied: livelossplot in /usr/local/lib/python3.6/dist-packages (0.5.1)\n",
            "Requirement already satisfied: matplotlib; python_version >= \"3.6\" in /usr/local/lib/python3.6/dist-packages (from livelossplot) (3.2.1)\n",
            "Requirement already satisfied: ipython in /usr/local/lib/python3.6/dist-packages (from livelossplot) (5.5.0)\n",
            "Requirement already satisfied: bokeh; python_version >= \"3.6\" in /usr/local/lib/python3.6/dist-packages (from livelossplot) (1.4.0)\n",
            "Requirement already satisfied: python-dateutil>=2.1 in /usr/local/lib/python3.6/dist-packages (from matplotlib; python_version >= \"3.6\"->livelossplot) (2.8.1)\n",
            "Requirement already satisfied: kiwisolver>=1.0.1 in /usr/local/lib/python3.6/dist-packages (from matplotlib; python_version >= \"3.6\"->livelossplot) (1.2.0)\n",
            "Requirement already satisfied: numpy>=1.11 in /usr/local/lib/python3.6/dist-packages (from matplotlib; python_version >= \"3.6\"->livelossplot) (1.18.4)\n",
            "Requirement already satisfied: cycler>=0.10 in /usr/local/lib/python3.6/dist-packages (from matplotlib; python_version >= \"3.6\"->livelossplot) (0.10.0)\n",
            "Requirement already satisfied: pyparsing!=2.0.4,!=2.1.2,!=2.1.6,>=2.0.1 in /usr/local/lib/python3.6/dist-packages (from matplotlib; python_version >= \"3.6\"->livelossplot) (2.4.7)\n",
            "Requirement already satisfied: setuptools>=18.5 in /usr/local/lib/python3.6/dist-packages (from ipython->livelossplot) (47.1.1)\n",
            "Requirement already satisfied: decorator in /usr/local/lib/python3.6/dist-packages (from ipython->livelossplot) (4.4.2)\n",
            "Requirement already satisfied: simplegeneric>0.8 in /usr/local/lib/python3.6/dist-packages (from ipython->livelossplot) (0.8.1)\n",
            "Requirement already satisfied: pickleshare in /usr/local/lib/python3.6/dist-packages (from ipython->livelossplot) (0.7.5)\n",
            "Requirement already satisfied: prompt-toolkit<2.0.0,>=1.0.4 in /usr/local/lib/python3.6/dist-packages (from ipython->livelossplot) (1.0.18)\n",
            "Requirement already satisfied: traitlets>=4.2 in /usr/local/lib/python3.6/dist-packages (from ipython->livelossplot) (4.3.3)\n",
            "Requirement already satisfied: pexpect; sys_platform != \"win32\" in /usr/local/lib/python3.6/dist-packages (from ipython->livelossplot) (4.8.0)\n",
            "Requirement already satisfied: pygments in /usr/local/lib/python3.6/dist-packages (from ipython->livelossplot) (2.1.3)\n",
            "Requirement already satisfied: six>=1.5.2 in /usr/local/lib/python3.6/dist-packages (from bokeh; python_version >= \"3.6\"->livelossplot) (1.12.0)\n",
            "Requirement already satisfied: packaging>=16.8 in /usr/local/lib/python3.6/dist-packages (from bokeh; python_version >= \"3.6\"->livelossplot) (20.4)\n",
            "Requirement already satisfied: pillow>=4.0 in /usr/local/lib/python3.6/dist-packages (from bokeh; python_version >= \"3.6\"->livelossplot) (7.0.0)\n",
            "Requirement already satisfied: Jinja2>=2.7 in /usr/local/lib/python3.6/dist-packages (from bokeh; python_version >= \"3.6\"->livelossplot) (2.11.2)\n",
            "Requirement already satisfied: PyYAML>=3.10 in /usr/local/lib/python3.6/dist-packages (from bokeh; python_version >= \"3.6\"->livelossplot) (3.13)\n",
            "Requirement already satisfied: tornado>=4.3 in /usr/local/lib/python3.6/dist-packages (from bokeh; python_version >= \"3.6\"->livelossplot) (4.5.3)\n",
            "Requirement already satisfied: wcwidth in /usr/local/lib/python3.6/dist-packages (from prompt-toolkit<2.0.0,>=1.0.4->ipython->livelossplot) (0.2.2)\n",
            "Requirement already satisfied: ipython-genutils in /usr/local/lib/python3.6/dist-packages (from traitlets>=4.2->ipython->livelossplot) (0.2.0)\n",
            "Requirement already satisfied: ptyprocess>=0.5 in /usr/local/lib/python3.6/dist-packages (from pexpect; sys_platform != \"win32\"->ipython->livelossplot) (0.6.0)\n",
            "Requirement already satisfied: MarkupSafe>=0.23 in /usr/local/lib/python3.6/dist-packages (from Jinja2>=2.7->bokeh; python_version >= \"3.6\"->livelossplot) (1.1.1)\n",
            "Requirement already satisfied: lightgbm in /usr/local/lib/python3.6/dist-packages (2.2.3)\n",
            "Requirement already satisfied: scikit-learn in /usr/local/lib/python3.6/dist-packages (from lightgbm) (0.22.2.post1)\n",
            "Requirement already satisfied: scipy in /usr/local/lib/python3.6/dist-packages (from lightgbm) (1.4.1)\n",
            "Requirement already satisfied: numpy in /usr/local/lib/python3.6/dist-packages (from lightgbm) (1.18.4)\n",
            "Requirement already satisfied: joblib>=0.11 in /usr/local/lib/python3.6/dist-packages (from scikit-learn->lightgbm) (0.15.1)\n",
            "/content/drive/My Drive/Colab Notebooks\n"
          ],
          "name": "stdout"
        }
      ]
    },
    {
      "cell_type": "code",
      "metadata": {
        "id": "XSWV_IuMNqDn",
        "colab_type": "code",
        "colab": {}
      },
      "source": [
        "gpu = torch.device(\"cuda:0\")"
      ],
      "execution_count": 0,
      "outputs": []
    },
    {
      "cell_type": "code",
      "metadata": {
        "id": "Q9PShidcOFOa",
        "colab_type": "code",
        "colab": {}
      },
      "source": [
        "def loaddata(directory, t=True):\n",
        "  \n",
        "    feature_list = list()\n",
        "    train_data_list = list()\n",
        "    train_target_list = list()\n",
        "    name = list()\n",
        "\n",
        "\n",
        "    for i,filename in enumerate(os.listdir(directory)):\n",
        "        data_matrix = np.genfromtxt(f'{directory}/{filename}')\n",
        "        if filename == 'Data2scaled.txt': \n",
        "            name.append(filename)\n",
        "            raw_data = np.genfromtxt('data/etalon_etalon_29May20.ccfSum-telemetry.csv',delimiter=',',names=True)\n",
        "            feature_list.append(list(raw_data.dtype.names))\n",
        "            test_data = data_matrix[:,[i for i in range(len(data_matrix[1])) if i!=1]]\n",
        "            test_target = data_matrix[:,1]\n",
        "        else:\n",
        "            train_data_list.append(data_matrix[:,[i for i in range(len(data_matrix[1])) if i!=1]])\n",
        "            train_target_list.append(data_matrix[:,1])\n",
        "    feature_list = feature_list[0]\n",
        "    feature_list.remove('RV')    \n",
        "\n",
        "\n",
        "    if t == True:\n",
        "      train_data_list = [quantile_transform(data,n_quantiles=100,copy=True) for data in train_data_list]\n",
        "      test_data = quantile_transform(test_data,n_quantiles=100,copy=True)\n",
        "      train_data_torch = [torch.from_numpy(data).unsqueeze(dim=1).float().to(gpu) for data in train_data_list]\n",
        "      train_target_torch = [torch.from_numpy(data).unsqueeze(dim=1).float().to(gpu) for data in train_target_list]\n",
        "      test_data_torch, test_target_torch = torch.from_numpy(np.array(test_data)).unsqueeze(dim=1).float().to(gpu), torch.from_numpy(np.array(test_target)).float().to(gpu)\n",
        "      return train_data_torch, train_target_torch, test_data_torch, test_target_torch, np.array(feature_list,dtype=str)\n",
        "\n",
        "    \n",
        "    elif t == False:\n",
        "      train_data_list = [quantile_transform(data,n_quantiles=100,copy=True) for data in train_data_list]\n",
        "      test_data = quantile_transform(test_data,n_quantiles=100,copy=True)\n",
        "      train_data = np.concatenate(train_data_list, axis=0)\n",
        "      train_target = np.concatenate(train_target_list, axis=0)\n",
        "      train_data = np.delete(train_data, 0, 1)\n",
        "      test_data = np.delete(test_data, 0, 1)\n",
        "      return train_data, train_target, test_data, test_target, name[0]"
      ],
      "execution_count": 0,
      "outputs": []
    },
    {
      "cell_type": "markdown",
      "metadata": {
        "id": "29po0sRCdqWK",
        "colab_type": "text"
      },
      "source": [
        "**Loading in data:** For gpu (torch-based, t=True) and cpu (sklearn-based, t=False)"
      ]
    },
    {
      "cell_type": "code",
      "metadata": {
        "id": "u0PvAGEGOkih",
        "colab_type": "code",
        "colab": {}
      },
      "source": [
        "train_data_torch, train_target_torch, test_data_torch, test_target_torch, feature_list = loaddata('Scaleddata', t=True)"
      ],
      "execution_count": 0,
      "outputs": []
    },
    {
      "cell_type": "code",
      "metadata": {
        "id": "nQqn7JXe2MXP",
        "colab_type": "code",
        "colab": {}
      },
      "source": [
        "train_data_numpy, train_target_numpy, test_data_numpy, test_target_numpy, name = loaddata('Scaleddata', t=False)"
      ],
      "execution_count": 0,
      "outputs": []
    },
    {
      "cell_type": "code",
      "metadata": {
        "id": "5SpkwRMu6ESC",
        "colab_type": "code",
        "colab": {}
      },
      "source": [
        "class LSTMTagger(nn.Module):\n",
        "\n",
        "    def __init__(self, inputsize, layers, hiddensize, drop_out):\n",
        "        super(LSTMTagger, self).__init__()\n",
        "        self.inputsize = inputsize\n",
        "        self.hiddensize = hiddensize\n",
        "        self.layers = layers\n",
        "        self.drop_out = drop_out\n",
        "\n",
        "        self.lstm = nn.LSTM(input_size=self.inputsize, hidden_size = self.hiddensize, num_layers=layers, dropout=drop_out)\n",
        "        self.hidden2radial = nn.Linear(in_features=hiddensize, out_features=1)\n",
        "\n",
        "    def forward(self, x):\n",
        "        x, _ = self.lstm(x)\n",
        "        #x = F.elu(x)\n",
        "        x = self.hidden2radial(x)\n",
        "        return x"
      ],
      "execution_count": 0,
      "outputs": []
    },
    {
      "cell_type": "markdown",
      "metadata": {
        "id": "HTo46Fq2dNqe",
        "colab_type": "text"
      },
      "source": [
        "**Bayesian Optimization:** A generalized version to optimize both torch based and sklearn based algorithms"
      ]
    },
    {
      "cell_type": "code",
      "metadata": {
        "id": "s3bCGJxUHhIS",
        "colab_type": "code",
        "colab": {}
      },
      "source": [
        "def val(inputsize: int, algorithm, data, targets, **params):\n",
        "    param_list = list()\n",
        "    for arg in params.values():\n",
        "      param_list.append(arg)\n",
        "\n",
        "    if algorithm == LSTMTagger:\n",
        "      estimator = algorithm(inputsize, int(param_list[2]), int(param_list[1]), param_list[0])\n",
        "      optimizer = torch.optim.Adam(estimator.parameters(),lr=param_list[3])\n",
        "      judge = list()\n",
        "      estimator = estimator.to(gpu)\n",
        "      criterion = nn.MSELoss()\n",
        "      for i,valdata in enumerate(train_data_torch):\n",
        "          traindata = train_data_torch[:i] + train_data_torch[i+1:]\n",
        "          traintarget = train_target_torch[:i] + train_target_torch[i+1:]\n",
        "          valtarget = train_target_torch[i]\n",
        "          judge_list = list()\n",
        "          n_epochs = 100\n",
        "          for e in range(n_epochs):\n",
        "            estimator.train()\n",
        "            epoch_losses = list()\n",
        "            epoch_evs = list()\n",
        "            acc_list = list()\n",
        "            loss_list = list()\n",
        "            for batch in range(len(traindata)):\n",
        "              estimator.zero_grad()\n",
        "              optimizer.zero_grad() \n",
        "              prediction = estimator(traindata[batch])\n",
        "              target = traintarget[batch]\n",
        "              # Calculating the loss function\n",
        "              loss = criterion(prediction.squeeze(dim=2), target)\n",
        "              # Calculating the gradient\n",
        "              loss.backward()\n",
        "              optimizer.step()\n",
        "            with torch.no_grad():\n",
        "              estimator.eval()\n",
        "              train_prediction = estimator(valdata).squeeze(dim=1)\n",
        "              loss_list.append( float(criterion((train_prediction),valtarget).detach().cpu()) )\n",
        "              acc_list.append( explained_variance_score(valtarget.cpu(), train_prediction.cpu()) )\n",
        "              #print(e, np.mean(loss_list),np.mean(acc_list))\n",
        "            judge_list.append(np.mean(acc_list))\n",
        "      return np.mean(judge_list)\n",
        "\n",
        "    else:\n",
        "      for key in params.keys():\n",
        "        if params[key] >= 1:\n",
        "          params[key] = int(params[key])\n",
        "      estimator = algorithm(random_state=27, **params)\n",
        "      cval = cross_val_score(estimator, data, targets, cv=5,scoring='explained_variance')\n",
        "      return cval.mean()\n",
        "\n",
        "def optimize(algorithm, data, targets, params, n_iter):\n",
        "    def crossval_wrapper(data=data, targets=targets, **params):\n",
        "        return val(inputsize = 27,\n",
        "                   algorithm = algorithm, \n",
        "                   data = data, \n",
        "                   targets = targets, \n",
        "                   **params)\n",
        "\n",
        "    optimizer = BayesianOptimization(f=crossval_wrapper, \n",
        "                                     pbounds=params, \n",
        "                                     random_state=27, \n",
        "                                     verbose=2)\n",
        "    optimizer.maximize(init_points=2, n_iter=n_iter)\n",
        "\n",
        "    return optimizer"
      ],
      "execution_count": 0,
      "outputs": []
    },
    {
      "cell_type": "code",
      "metadata": {
        "id": "FrLZo9b3nlvX",
        "colab_type": "code",
        "colab": {}
      },
      "source": [
        "model_list = list()"
      ],
      "execution_count": 0,
      "outputs": []
    },
    {
      "cell_type": "markdown",
      "metadata": {
        "id": "WVsm6am4dHyV",
        "colab_type": "text"
      },
      "source": [
        "**Long short term memory:**"
      ]
    },
    {
      "cell_type": "code",
      "metadata": {
        "id": "ZVWYj3SF6I6y",
        "colab_type": "code",
        "colab": {
          "base_uri": "https://localhost:8080/",
          "height": 322
        },
        "outputId": "36bd4abe-8c73-4515-9694-b2e6dbb1b225"
      },
      "source": [
        "params_LSTM = {\"layers\": (1, 3),\n",
        "               \"hiddensize\": (100, 400),\n",
        "               \"drop_out\": (0.2, 0.6),\n",
        "               \"lr\": (0.0001, 0.00001)}\n",
        "\n",
        "BO_LSTM = optimize(algorithm = LSTMTagger, data = train_data_torch, targets = train_target_torch, params = params_LSTM, n_iter = 6)\n",
        "\n",
        "print(BO_LSTM.max)\n",
        "\n",
        "max_params_LSTM = BO_LSTM.max['params']"
      ],
      "execution_count": 9,
      "outputs": [
        {
          "output_type": "stream",
          "text": [
            "|   iter    |  target   | drop_out  | hidden... |  layers   |    lr     |\n",
            "-------------------------------------------------------------------------\n",
            "| \u001b[0m 1       \u001b[0m | \u001b[0m 0.8388  \u001b[0m | \u001b[0m 0.3703  \u001b[0m | \u001b[0m 344.4   \u001b[0m | \u001b[0m 2.471   \u001b[0m | \u001b[0m 2.188e-0\u001b[0m |\n",
            "| \u001b[95m 2       \u001b[0m | \u001b[95m 0.883   \u001b[0m | \u001b[95m 0.3534  \u001b[0m | \u001b[95m 393.8   \u001b[0m | \u001b[95m 2.786   \u001b[0m | \u001b[95m 8.113e-0\u001b[0m |\n"
          ],
          "name": "stdout"
        },
        {
          "output_type": "stream",
          "text": [
            "/usr/local/lib/python3.6/dist-packages/torch/nn/modules/rnn.py:50: UserWarning: dropout option adds dropout after all but last recurrent layer, so non-zero dropout expects num_layers greater than 1, but got dropout=0.5794010593306493 and num_layers=1\n",
            "  \"num_layers={}\".format(dropout, num_layers))\n"
          ],
          "name": "stderr"
        },
        {
          "output_type": "stream",
          "text": [
            "| \u001b[0m 3       \u001b[0m | \u001b[0m 0.7524  \u001b[0m | \u001b[0m 0.5794  \u001b[0m | \u001b[0m 399.7   \u001b[0m | \u001b[0m 1.009   \u001b[0m | \u001b[0m 1e-05   \u001b[0m |\n",
            "| \u001b[0m 4       \u001b[0m | \u001b[0m 0.602   \u001b[0m | \u001b[0m 0.5163  \u001b[0m | \u001b[0m 100.0   \u001b[0m | \u001b[0m 2.35    \u001b[0m | \u001b[0m 1e-05   \u001b[0m |\n",
            "| \u001b[0m 5       \u001b[0m | \u001b[0m 0.7467  \u001b[0m | \u001b[0m 0.2294  \u001b[0m | \u001b[0m 216.7   \u001b[0m | \u001b[0m 2.987   \u001b[0m | \u001b[0m 1e-05   \u001b[0m |\n",
            "| \u001b[0m 6       \u001b[0m | \u001b[0m 0.6417  \u001b[0m | \u001b[0m 0.4732  \u001b[0m | \u001b[0m 124.3   \u001b[0m | \u001b[0m 2.692   \u001b[0m | \u001b[0m 1e-05   \u001b[0m |\n"
          ],
          "name": "stdout"
        },
        {
          "output_type": "stream",
          "text": [
            "/usr/local/lib/python3.6/dist-packages/torch/nn/modules/rnn.py:50: UserWarning: dropout option adds dropout after all but last recurrent layer, so non-zero dropout expects num_layers greater than 1, but got dropout=0.266604824910106 and num_layers=1\n",
            "  \"num_layers={}\".format(dropout, num_layers))\n"
          ],
          "name": "stderr"
        },
        {
          "output_type": "stream",
          "text": [
            "| \u001b[0m 7       \u001b[0m | \u001b[0m 0.7216  \u001b[0m | \u001b[0m 0.2666  \u001b[0m | \u001b[0m 391.4   \u001b[0m | \u001b[0m 1.813   \u001b[0m | \u001b[0m 1e-05   \u001b[0m |\n",
            "| \u001b[0m 8       \u001b[0m | \u001b[0m 0.7725  \u001b[0m | \u001b[0m 0.2024  \u001b[0m | \u001b[0m 298.0   \u001b[0m | \u001b[0m 2.896   \u001b[0m | \u001b[0m 1e-05   \u001b[0m |\n",
            "=========================================================================\n",
            "{'target': 0.8829647785425186, 'params': {'drop_out': 0.3533523091490481, 'hiddensize': 393.83698964335616, 'layers': 2.7863886934302706, 'lr': 8.112563472210621e-05}}\n"
          ],
          "name": "stdout"
        }
      ]
    },
    {
      "cell_type": "code",
      "metadata": {
        "id": "k7MiK4ZDGvwb",
        "colab_type": "code",
        "colab": {
          "base_uri": "https://localhost:8080/",
          "height": 1000
        },
        "outputId": "cfeac567-1e33-4fdd-8005-89686f8be32b"
      },
      "source": [
        "criterion = nn.MSELoss()\n",
        "judge = list()\n",
        "for i,valdata in enumerate(train_data_torch):\n",
        "      model = LSTMTagger(27,layers=int(max_params_LSTM['layers']), hiddensize=int(max_params_LSTM['hiddensize']),drop_out=max_params_LSTM['drop_out']).to(gpu)\n",
        "      optimizer = optim.Adam(model.parameters(),lr=max_params_LSTM['lr'])\n",
        "\n",
        "      traindata = train_data_torch[:i] + train_data_torch[i+1:]\n",
        "      traintarget = train_target_torch[:i] + train_target_torch[i+1:]\n",
        "      valtarget = train_target_torch[i]\n",
        "      judge_list = list()\n",
        "\n",
        "      plotlosses = PlotLosses()\n",
        "      n_epochs = 100\n",
        "      for e in range(n_epochs):\n",
        "          model.train()\n",
        "          epoch_losses = list()\n",
        "          epoch_evs = list()\n",
        "          acc_list = list()\n",
        "          loss_list = list()\n",
        "          for batch in range(len(traindata)):\n",
        "              model.zero_grad()\n",
        "              optimizer.zero_grad() \n",
        "              prediction = model(traindata[batch])\n",
        "              target = traintarget[batch]\n",
        "              # Calculating the loss function\n",
        "              loss = criterion(prediction.squeeze(dim=2), target)\n",
        "              epoch_losses.append(float(loss))\n",
        "              evs = explained_variance_score(target.squeeze(dim=1).detach().cpu().numpy(),prediction.squeeze(dim=1).detach().cpu().numpy())\n",
        "              epoch_evs.append(evs)\n",
        "              # Calculating the gradient\n",
        "              loss.backward()\n",
        "              optimizer.step()\n",
        "          with torch.no_grad():\n",
        "              model.eval()\n",
        "              train_prediction = model(valdata).squeeze(dim=1)\n",
        "              loss_list.append( float(criterion((train_prediction),valtarget).detach().cpu()) )\n",
        "              acc_list.append( explained_variance_score(valtarget.cpu(), train_prediction.cpu()) )\n",
        "          print(e, np.mean(epoch_losses), np.mean(epoch_evs))\n",
        "          judge_list.append(np.mean(acc_list))\n",
        "      judge.append([np.mean(judge_list),model])\n",
        "sorted(judge, key=lambda x: x[0])\n",
        "winner = judge[0]\n",
        "model_list.append(winner[1])"
      ],
      "execution_count": 10,
      "outputs": [
        {
          "output_type": "stream",
          "text": [
            "0 0.9958789745966593 0.004728456338246663\n",
            "1 0.9819310307502747 0.01888968547185262\n",
            "2 0.9689929882685343 0.032029410203297935\n",
            "3 0.9536724289258321 0.04754668474197388\n",
            "4 0.9367795586585999 0.06469591458638509\n",
            "5 0.9169230858484904 0.0848168134689331\n",
            "6 0.8918176889419556 0.11026948690414429\n",
            "7 0.8640719453493754 0.13877445459365845\n",
            "8 0.8245387673377991 0.17921713987986246\n",
            "9 0.7697240511576334 0.23564298947652182\n",
            "10 0.6975667675336202 0.3103318214416504\n",
            "11 0.5955915252367655 0.41737620035807294\n",
            "12 0.45896201332410175 0.5614033341407776\n",
            "13 0.3101878861586253 0.7133896748224894\n",
            "14 0.25648847470680874 0.7623393138249716\n",
            "15 0.2794727385044098 0.7434447606404623\n",
            "16 0.2166900336742401 0.7867833971977234\n",
            "17 0.19837850332260132 0.80556720495224\n",
            "18 0.20679772396882376 0.7986060579617819\n",
            "19 0.20344978074232736 0.8012906511624655\n",
            "20 0.1898506060242653 0.8135952353477478\n",
            "21 0.1727204049626986 0.8317118684450785\n",
            "22 0.1655131864051024 0.8398224910100301\n",
            "23 0.16459576164682707 0.8410017490386963\n",
            "24 0.15950894231597582 0.8457172711690267\n",
            "25 0.15186131124695143 0.8525966008504232\n",
            "26 0.147983534882466 0.8567473292350769\n",
            "27 0.14179499944051108 0.8624815940856934\n",
            "28 0.13858092948794365 0.8657755454381307\n",
            "29 0.13214197382330894 0.8727855483690897\n",
            "30 0.1305282562971115 0.8741627335548401\n",
            "31 0.12651623288790384 0.8784792820612589\n",
            "32 0.12071473896503448 0.883974572022756\n",
            "33 0.11603534718354543 0.8883570035298666\n",
            "34 0.11134527499477069 0.8920887112617493\n",
            "35 0.11103441069523494 0.8932641545931498\n",
            "36 0.10950336108605067 0.8936971028645834\n",
            "37 0.10056709249814351 0.9022173881530762\n",
            "38 0.10072601214051247 0.9014843304951986\n",
            "39 0.09966565916935603 0.9024309913317362\n",
            "40 0.0936024139324824 0.9082702199618021\n",
            "41 0.09148382768034935 0.909637987613678\n",
            "42 0.09061752383907636 0.9100183645884196\n",
            "43 0.08710535491506259 0.9130491813023885\n",
            "44 0.08513481418291728 0.9150153199831644\n",
            "45 0.08500207836429279 0.9151075085004171\n",
            "46 0.08448456848661105 0.9156432151794434\n",
            "47 0.08396337057153384 0.9162302414576212\n",
            "48 0.08606039981047313 0.914098302523295\n",
            "49 0.08029826854666074 0.9199013710021973\n",
            "50 0.08138436203201611 0.9187373916308085\n",
            "51 0.07979145273566246 0.920666515827179\n",
            "52 0.08036158854762714 0.9197419881820679\n",
            "53 0.07766393944621086 0.9232420523961385\n",
            "54 0.07745006307959557 0.9230311910311381\n",
            "55 0.0756891556084156 0.9248053232828776\n",
            "56 0.07567634557684262 0.9248409072558085\n",
            "57 0.07452375441789627 0.925713857014974\n",
            "58 0.07405185078581174 0.927498996257782\n",
            "59 0.07151488711436589 0.9293078382809957\n",
            "60 0.07242774590849876 0.9294543663660685\n",
            "61 0.0722832481066386 0.9284642736117045\n",
            "62 0.07198893030484517 0.9299538930257162\n",
            "63 0.07273509725928307 0.9274791876475016\n",
            "64 0.07154378419121106 0.9319663445154825\n",
            "65 0.0676441416144371 0.9332634210586548\n",
            "66 0.06697993973890941 0.935214618841807\n",
            "67 0.07058958957592647 0.9300903081893921\n",
            "68 0.06672872727115949 0.9356290499369303\n",
            "69 0.0685306986172994 0.9327306548754374\n",
            "70 0.06631328786412875 0.9377089738845825\n",
            "71 0.06717325622836749 0.934528668721517\n",
            "72 0.06626199061671893 0.9364997347195944\n",
            "73 0.06586903582016627 0.934786299864451\n",
            "74 0.06446607907613118 0.9389767448107401\n",
            "75 0.06274905055761337 0.9376357992490133\n",
            "76 0.06540417298674583 0.9405079086621603\n",
            "77 0.06475027153889339 0.9363434910774231\n",
            "78 0.06446345026294391 0.9391599297523499\n",
            "79 0.06081842755277952 0.9399415850639343\n",
            "80 0.060836890091498695 0.9427027901013693\n",
            "81 0.06095223128795624 0.9401368896166483\n",
            "82 0.06135767077406248 0.942363957564036\n",
            "83 0.060812429835398994 0.9404520392417908\n",
            "84 0.05973041305939356 0.9454008539517721\n",
            "85 0.059453011800845466 0.9409719109535217\n",
            "86 0.059533752501010895 0.9440368413925171\n",
            "87 0.05947729821006457 0.941103458404541\n",
            "88 0.05919079606731733 0.9463204940160116\n",
            "89 0.059177915255228676 0.9414857824643453\n",
            "90 0.057763464748859406 0.9480681618054708\n",
            "91 0.05952013283967972 0.9414721528689066\n",
            "92 0.05727238580584526 0.9483430782953898\n",
            "93 0.05989746997753779 0.940923273563385\n",
            "94 0.057284059623877205 0.9471642971038818\n",
            "95 0.05514939253528913 0.9455365737279257\n",
            "96 0.05496028810739517 0.9507140517234802\n",
            "97 0.053822255382935204 0.9472283522288004\n",
            "98 0.05427838241060575 0.9506786266962687\n",
            "99 0.05587815369168917 0.9447507659594218\n",
            "0 0.9992913206418356 0.0025567213694254556\n",
            "1 0.9894044001897176 0.011587679386138916\n",
            "2 0.9791306257247925 0.02123759190241496\n",
            "3 0.9710211753845215 0.02903588612874349\n",
            "4 0.9608040054639181 0.039213856061299644\n",
            "5 0.9474461476008097 0.05269026756286621\n",
            "6 0.9338423609733582 0.06649722655614217\n",
            "7 0.9153992335001627 0.08517279227574666\n",
            "8 0.8946173985799154 0.10621798038482666\n",
            "9 0.8620720704396566 0.13893387715021768\n",
            "10 0.8229547341664633 0.17848296960194907\n",
            "11 0.7645118236541748 0.2375862995783488\n",
            "12 0.6846298575401306 0.3187670310338338\n",
            "13 0.5682870348294576 0.43828026453653973\n",
            "14 0.43875838319460553 0.5731169978777567\n",
            "15 0.3779479116201401 0.6303936839103699\n",
            "16 0.4176034430662791 0.6200545231501261\n",
            "17 0.3810936162869136 0.6535375118255615\n",
            "18 0.3507276847958565 0.6630425254503886\n",
            "19 0.34232550859451294 0.6670153339703878\n",
            "20 0.3408301422993342 0.6656266848246256\n",
            "21 0.3206314245859782 0.686521569887797\n",
            "22 0.3040471648176511 0.7037792205810547\n",
            "23 0.2918159564336141 0.7150845130284628\n",
            "24 0.2857043171922366 0.7229782938957214\n",
            "25 0.2790901263554891 0.7332325379053751\n",
            "26 0.26545383036136627 0.7452599008878072\n",
            "27 0.2540676991144816 0.7564117908477783\n",
            "28 0.25184500217437744 0.7605206569035848\n",
            "29 0.24079712977012 0.7667445540428162\n",
            "30 0.23597980290651321 0.7668736775716146\n",
            "31 0.23185368378957114 0.7792519529660543\n",
            "32 0.2414203186829885 0.7663344144821167\n",
            "33 0.2436810409029325 0.7771780888239542\n",
            "34 0.2659811278184255 0.7497965097427368\n",
            "35 0.23443841685851416 0.7819211483001709\n",
            "36 0.2382327119509379 0.771161158879598\n",
            "37 0.23203070958455405 0.7713417410850525\n",
            "38 0.22214534878730774 0.7841046253840128\n",
            "39 0.22210166851679483 0.7880415916442871\n",
            "40 0.22010676811138788 0.7837501366933187\n",
            "41 0.21751114477713904 0.7910520831743876\n",
            "42 0.21233910073836645 0.7958278258641561\n",
            "43 0.20788547893365225 0.7970038453737894\n",
            "44 0.20775715013345084 0.7975452542304993\n",
            "45 0.20211241642634073 0.803955614566803\n",
            "46 0.20038093502322832 0.8025657534599304\n",
            "47 0.19680110489328703 0.8066173195838928\n",
            "48 0.19534359003106752 0.8078445792198181\n",
            "49 0.19238868231574693 0.8100589911142985\n",
            "50 0.1897114490469297 0.8126055002212524\n",
            "51 0.18952866519490877 0.8133335709571838\n",
            "52 0.18411284436782202 0.8199279109636942\n",
            "53 0.18510800848404566 0.817444900671641\n",
            "54 0.17921901494264603 0.8233645359675089\n",
            "55 0.17907172193129858 0.8248846530914307\n",
            "56 0.1767714967330297 0.8253592650095621\n",
            "57 0.17121857528885207 0.8312758803367615\n",
            "58 0.1696941815316677 0.833102305730184\n",
            "59 0.16622243945797285 0.8355392018953959\n",
            "60 0.16700105369091034 0.8352523446083069\n",
            "61 0.1611743246515592 0.8409954110781351\n",
            "62 0.15805399417877197 0.8451813062032064\n",
            "63 0.15470668797691664 0.846537450949351\n",
            "64 0.1511047581831614 0.8508005340894064\n",
            "65 0.15056291595101357 0.8507657249768575\n",
            "66 0.148396714280049 0.8538698554039001\n",
            "67 0.14205168187618256 0.8605973323186239\n",
            "68 0.14018814265727997 0.8632013003031412\n",
            "69 0.1436516965428988 0.8629408081372579\n",
            "70 0.13650953645507494 0.8665873010953268\n",
            "71 0.1328035108745098 0.8706761399904887\n",
            "72 0.13306822255253792 0.8691352605819702\n",
            "73 0.13026865075031915 0.8707881967226664\n",
            "74 0.1267888123790423 0.8751999537150065\n",
            "75 0.12545404583215714 0.8847155769666036\n",
            "76 0.12882956489920616 0.8777234156926473\n",
            "77 0.12593833977977434 0.8779853185017904\n",
            "78 0.1254847211142381 0.8842884500821432\n",
            "79 0.1255540649096171 0.8749187787373861\n",
            "80 0.11860436946153641 0.8830118974049886\n",
            "81 0.11928066487113635 0.8857702016830444\n",
            "82 0.11880322049061458 0.8918421864509583\n",
            "83 0.11910863717397054 0.8816711107889811\n",
            "84 0.11972953006625175 0.8912911415100098\n",
            "85 0.1294990343352159 0.8772130807240804\n",
            "86 0.12536505609750748 0.8824346462885538\n",
            "87 0.12611144284407297 0.8849674463272095\n",
            "88 0.11960998053352039 0.8857361276944479\n",
            "89 0.11577469483017921 0.8890728155771891\n",
            "90 0.11204259842634201 0.8912860751152039\n",
            "91 0.1110542081296444 0.891949454943339\n",
            "92 0.11413708453377087 0.8907626072565714\n",
            "93 0.11152329668402672 0.8940906723340353\n",
            "94 0.1136351836224397 0.8911104202270508\n",
            "95 0.11290372163057327 0.8911881248156229\n",
            "96 0.10922919834653537 0.8948875268300375\n",
            "97 0.11086483051379521 0.8928533792495728\n",
            "98 0.10797841846942902 0.8963760534922282\n",
            "99 0.110676442583402 0.8956436713536581\n",
            "0 1.0015230576197307 -0.0015093485514322917\n",
            "1 0.9898026784261068 0.010227819283803305\n",
            "2 0.9784223635991415 0.021675984064737957\n",
            "3 0.9658328890800476 0.03435866038004557\n",
            "4 0.9531965057055155 0.04714409510294596\n",
            "5 0.938075323899587 0.06240922212600708\n",
            "6 0.9198318918546041 0.08085489273071289\n",
            "7 0.895347793896993 0.10567647218704224\n",
            "8 0.8703611493110657 0.1311458945274353\n",
            "9 0.8321370482444763 0.16994168361028036\n",
            "10 0.7817170818646749 0.22151933113733926\n",
            "11 0.715916653474172 0.2894584933916728\n",
            "12 0.62769948442777 0.3813311258951823\n",
            "13 0.515044758717219 0.5011443098386129\n",
            "14 0.4149295687675476 0.6098801493644714\n",
            "15 0.4051366870601972 0.6306157906850179\n",
            "16 0.41823144257068634 0.6510977347691854\n",
            "17 0.36825163165728253 0.6720089912414551\n",
            "18 0.35646846145391464 0.6645332177480062\n",
            "19 0.3540821274121602 0.6613125403722128\n",
            "20 0.3519452561934789 0.6597557067871094\n",
            "21 0.3409099628527959 0.6688033938407898\n",
            "22 0.32833069066206616 0.6839430729548136\n",
            "23 0.32825248936812085 0.6874528129895529\n",
            "24 0.3238622496525447 0.6902329723040262\n",
            "25 0.31734030197064084 0.6934428811073303\n",
            "26 0.3120195344090462 0.6968770623207092\n",
            "27 0.3097846483190854 0.6985616882642111\n",
            "28 0.30272816866636276 0.7075658837954203\n",
            "29 0.3030558576186498 0.7073609630266825\n",
            "30 0.2936381126443545 0.7161798675855001\n",
            "31 0.2902357379595439 0.7195800542831421\n",
            "32 0.2878291184703509 0.7215301195780436\n",
            "33 0.2831900119781494 0.7257368167241415\n",
            "34 0.2769206178685029 0.7328179876009623\n",
            "35 0.2766043034692605 0.7330933014551798\n",
            "36 0.26958319917321205 0.740555981794993\n",
            "37 0.2670266330242157 0.7428418000539144\n",
            "38 0.2629290235539277 0.7456555167833964\n",
            "39 0.2627369376520316 0.7463432351748148\n",
            "40 0.25354395310084027 0.7556797663370768\n",
            "41 0.25031041353940964 0.7587274710337321\n",
            "42 0.24239681661128998 0.7662767171859741\n",
            "43 0.2376502069334189 0.7712743878364563\n",
            "44 0.23467125122745833 0.773660143216451\n",
            "45 0.23121017465988794 0.7784449458122253\n",
            "46 0.22381310909986496 0.7850016554196676\n",
            "47 0.2198257471124331 0.788493275642395\n",
            "48 0.21340868373711905 0.7960447470347086\n",
            "49 0.20876227443416914 0.799709419409434\n",
            "50 0.20207189147671065 0.8071225682894388\n",
            "51 0.19989228000243506 0.8088390628496805\n",
            "52 0.19025468826293945 0.8174374103546143\n",
            "53 0.1881087844570478 0.8208525975545248\n",
            "54 0.1834537461400032 0.824211835861206\n",
            "55 0.17676256969571114 0.8300484816233317\n",
            "56 0.17334691062569618 0.8324879209200541\n",
            "57 0.169941616555055 0.8369447787602743\n",
            "58 0.16405028601487479 0.8424383600552877\n",
            "59 0.16231806948781013 0.841809888680776\n",
            "60 0.15690275405844054 0.8472471237182617\n",
            "61 0.15567426507671675 0.8492502570152283\n",
            "62 0.15338348100582758 0.851844072341919\n",
            "63 0.1483976406355699 0.855552097161611\n",
            "64 0.14654082680741945 0.8547031283378601\n",
            "65 0.14307466025153795 0.8617752393086752\n",
            "66 0.13998480079074702 0.8614972233772278\n",
            "67 0.1378844411422809 0.8657272855440775\n",
            "68 0.13681074976921082 0.8674301505088806\n",
            "69 0.13182302688558897 0.8706838488578796\n",
            "70 0.12957815391321978 0.8796613613764445\n",
            "71 0.12711622193455696 0.8738428950309753\n",
            "72 0.12732753530144691 0.8770379622777303\n",
            "73 0.12632854717473188 0.8802316387494405\n",
            "74 0.12618669060369334 0.8740934729576111\n",
            "75 0.12165944340328376 0.8860191702842712\n",
            "76 0.12340258186062177 0.8831931153933207\n",
            "77 0.12142250811060269 0.882515033086141\n",
            "78 0.1155723799020052 0.8935353954633077\n",
            "79 0.11473848794897397 0.8868267933527628\n",
            "80 0.10994031218190987 0.8957342902819315\n",
            "81 0.10763365340729554 0.8945525487263998\n",
            "82 0.10888970332841079 0.8939817349116007\n",
            "83 0.10944562715788682 0.8957986434300741\n",
            "84 0.10647485467294852 0.8986781636873881\n",
            "85 0.11519061277310054 0.8878005146980286\n",
            "86 0.11445627237359683 0.8963026801745096\n",
            "87 0.12043676773707072 0.8868454893430074\n",
            "88 0.11171810949842136 0.8926177422205607\n",
            "89 0.11072058975696564 0.898834764957428\n",
            "90 0.10453728524347146 0.9015763799349467\n",
            "91 0.11379564553499222 0.889443059762319\n",
            "92 0.12035406877597173 0.9005055824915568\n",
            "93 0.114789633701245 0.8905140161514282\n",
            "94 0.10711975644032161 0.9051589965820312\n",
            "95 0.12477587970594566 0.884867529074351\n",
            "96 0.11543261383970578 0.9103224476178488\n",
            "97 0.11223964020609856 0.8980926473935446\n",
            "98 0.10209909888605277 0.901922881603241\n",
            "99 0.10218497676153977 0.9096973737080892\n",
            "0 1.0012544393539429 0.00033982594807942707\n",
            "1 0.9898783167203268 0.01114328702290853\n",
            "2 0.9795332948366801 0.02119678258895874\n",
            "3 0.9693206946055094 0.031216780344645183\n",
            "4 0.9577297965685526 0.042660295963287354\n",
            "5 0.9446641008059183 0.0556406577428182\n",
            "6 0.9286747376124064 0.07156749566396077\n",
            "7 0.907949169476827 0.09228696425755818\n",
            "8 0.8830592632293701 0.11718525489171346\n",
            "9 0.8517244458198547 0.1485795577367147\n",
            "10 0.8074944814046224 0.19296189149220785\n",
            "11 0.7446337540944418 0.256087859471639\n",
            "12 0.6607320110003153 0.34068357944488525\n",
            "13 0.5335122545560201 0.4688572883605957\n",
            "14 0.36820536355177563 0.6365580558776855\n",
            "15 0.24549568941195807 0.7662541270256042\n",
            "16 0.3667220026254654 0.6785818735758463\n",
            "17 0.285826841990153 0.7355327208836874\n",
            "18 0.2507498512665431 0.7575735251108805\n",
            "19 0.2474911759297053 0.7589794596036276\n",
            "20 0.2573234165708224 0.7534265518188477\n",
            "21 0.24112056195735931 0.7677978674570719\n",
            "22 0.22182898968458176 0.7829753160476685\n",
            "23 0.21855972707271576 0.7841322223345438\n",
            "24 0.2206359306971232 0.7810361782709757\n",
            "25 0.21611151099205017 0.7857514421145121\n",
            "26 0.20893247922261557 0.7927750547726949\n",
            "27 0.20638399198651314 0.796196440855662\n",
            "28 0.2049462360640367 0.7978878021240234\n",
            "29 0.19766496618588766 0.8039190173149109\n",
            "30 0.19329960023363432 0.8087104956309\n",
            "31 0.1912624997397264 0.8109956979751587\n",
            "32 0.18963015700380007 0.8128045996030172\n",
            "33 0.18215754007299742 0.820036252339681\n",
            "34 0.17996947218974432 0.8219765226046244\n",
            "35 0.17521080995599428 0.8275434573491415\n",
            "36 0.1759655885398388 0.8269177079200745\n",
            "37 0.17115349198381105 0.831805964310964\n",
            "38 0.16618102168043455 0.8361905415852865\n",
            "39 0.16557449847459793 0.8366701205571493\n",
            "40 0.15794135505954424 0.8449431856473287\n",
            "41 0.1546723060309887 0.8474072217941284\n",
            "42 0.15218361839652061 0.8497118949890137\n",
            "43 0.14881126706798872 0.8536080718040466\n",
            "44 0.1438339799642563 0.8580596645673116\n",
            "45 0.145310298850139 0.8563485542933146\n",
            "46 0.13817266002297401 0.8645130197207133\n",
            "47 0.13465829441944757 0.8670372366905212\n",
            "48 0.1321099909643332 0.8694014946619669\n",
            "49 0.1284607301155726 0.8744516571362814\n",
            "50 0.12303867439428966 0.8783800005912781\n",
            "51 0.11959052830934525 0.8812381625175476\n",
            "52 0.11514195675651233 0.8862800002098083\n",
            "53 0.11028087760011356 0.8917033274968466\n",
            "54 0.11069886386394501 0.8899269302686056\n",
            "55 0.10744135578473409 0.8964702089627584\n",
            "56 0.10198489079872768 0.8988251884778341\n",
            "57 0.10653751095136006 0.8950524727503458\n",
            "58 0.1003749097386996 0.9006414810816447\n",
            "59 0.09597747400403023 0.9044913252194723\n",
            "60 0.09396696339050929 0.9084161520004272\n",
            "61 0.09230458984772365 0.9104036092758179\n",
            "62 0.09303299834330876 0.911199688911438\n",
            "63 0.08977802842855453 0.9105588595072428\n",
            "64 0.08812741314371426 0.914393405119578\n",
            "65 0.08545902619759242 0.9147433638572693\n",
            "66 0.08279231935739517 0.919474720954895\n",
            "67 0.08015107239286105 0.9206412235895792\n",
            "68 0.07941079139709473 0.9223910371462504\n",
            "69 0.07621239498257637 0.9247775872548422\n",
            "70 0.07593390283485253 0.9259487589200338\n",
            "71 0.07336789121230443 0.9281633098920187\n",
            "72 0.07203132100403309 0.9283722837766012\n",
            "73 0.07106529052058856 0.9316256046295166\n",
            "74 0.07079658408959706 0.9299817482630411\n",
            "75 0.0669878280411164 0.9340798854827881\n",
            "76 0.06782316106061141 0.9336630702018738\n",
            "77 0.06464602922399838 0.9361326694488525\n",
            "78 0.06206780175367991 0.939018448193868\n",
            "79 0.06338875430325668 0.9412088592847189\n",
            "80 0.0636566827694575 0.9397382934888204\n",
            "81 0.060086738939086594 0.9401603738466898\n",
            "82 0.06005306914448738 0.9422353704770406\n",
            "83 0.056895347932974495 0.9432035883267721\n",
            "84 0.06025745595494906 0.9481614629427592\n",
            "85 0.054577684650818505 0.947329580783844\n",
            "86 0.05440971379478773 0.9461045861244202\n",
            "87 0.05129939317703247 0.9508646925290426\n",
            "88 0.05107634017864863 0.9496162931124369\n",
            "89 0.0514319638411204 0.9508397181828817\n",
            "90 0.050145965069532394 0.9515583713849386\n",
            "91 0.047599853947758675 0.9531612594922384\n",
            "92 0.04640108595291773 0.955222487449646\n",
            "93 0.04607086628675461 0.9545572201410929\n",
            "94 0.04431188106536865 0.9560385942459106\n",
            "95 0.0504087849209706 0.9562374949455261\n",
            "96 0.048561904579401016 0.9544748663902283\n",
            "97 0.04878154769539833 0.9517324566841125\n",
            "98 0.04726199060678482 0.9597045381863912\n",
            "99 0.050102876499295235 0.9539518157641093\n"
          ],
          "name": "stdout"
        }
      ]
    },
    {
      "cell_type": "markdown",
      "metadata": {
        "id": "WIllPyl9dCHu",
        "colab_type": "text"
      },
      "source": [
        "**Light GBM:**"
      ]
    },
    {
      "cell_type": "code",
      "metadata": {
        "id": "4ljVMPa9F0BZ",
        "colab_type": "code",
        "colab": {
          "base_uri": "https://localhost:8080/",
          "height": 657
        },
        "outputId": "34634a42-1b6a-4b02-e3e9-e7fb1c9777e6"
      },
      "source": [
        "params_LGBM = {'num_leaves': (2, 5),\n",
        "               #'max_depth': (50, 500),\n",
        "               'learning_rate': (0.01, 1)}\n",
        "\n",
        "BO_LGBM = optimize(algorithm = lgb.LGBMRegressor, data = train_data_numpy, targets = train_target_numpy, params = params_LGBM, n_iter=30)\n",
        "\n",
        "print(BO_LGBM.max)\n",
        "\n",
        "max_params_LGBM = BO_LGBM.max['params']\n",
        "\n",
        "model_LGBM = lgb.LGBMRegressor(num_leaves = int(max_params_LGBM['num_leaves']), \n",
        "                               #max_depth= int(max_params_LGBM['max_depth']), \n",
        "                               learning_rate = max_params_LGBM['learning_rate']\n",
        "                               )\n",
        "model_LGBM.fit(train_data_numpy, train_target_numpy)\n",
        "\n",
        "model_list.append(model_LGBM)"
      ],
      "execution_count": 11,
      "outputs": [
        {
          "output_type": "stream",
          "text": [
            "|   iter    |  target   | learni... | num_le... |\n",
            "-------------------------------------------------\n",
            "| \u001b[0m 1       \u001b[0m | \u001b[0m-0.2035  \u001b[0m | \u001b[0m 0.4315  \u001b[0m | \u001b[0m 4.444   \u001b[0m |\n",
            "| \u001b[0m 2       \u001b[0m | \u001b[0m-0.3615  \u001b[0m | \u001b[0m 0.738   \u001b[0m | \u001b[0m 4.604   \u001b[0m |\n",
            "| \u001b[95m 3       \u001b[0m | \u001b[95m 0.1464  \u001b[0m | \u001b[95m 0.01    \u001b[0m | \u001b[95m 2.0     \u001b[0m |\n",
            "| \u001b[0m 4       \u001b[0m | \u001b[0m-0.6386  \u001b[0m | \u001b[0m 1.0     \u001b[0m | \u001b[0m 2.0     \u001b[0m |\n",
            "| \u001b[95m 5       \u001b[0m | \u001b[95m 0.15    \u001b[0m | \u001b[95m 0.01    \u001b[0m | \u001b[95m 3.098   \u001b[0m |\n",
            "| \u001b[0m 6       \u001b[0m | \u001b[0m 0.1447  \u001b[0m | \u001b[0m 0.01    \u001b[0m | \u001b[0m 5.0     \u001b[0m |\n",
            "| \u001b[0m 7       \u001b[0m | \u001b[0m 0.1464  \u001b[0m | \u001b[0m 0.01    \u001b[0m | \u001b[0m 2.52    \u001b[0m |\n",
            "| \u001b[0m 8       \u001b[0m | \u001b[0m 0.15    \u001b[0m | \u001b[0m 0.01    \u001b[0m | \u001b[0m 3.738   \u001b[0m |\n",
            "| \u001b[95m 9       \u001b[0m | \u001b[95m 0.1519  \u001b[0m | \u001b[95m 0.01    \u001b[0m | \u001b[95m 4.466   \u001b[0m |\n",
            "| \u001b[0m 10      \u001b[0m | \u001b[0m 0.1519  \u001b[0m | \u001b[0m 0.01    \u001b[0m | \u001b[0m 4.116   \u001b[0m |\n",
            "| \u001b[0m 11      \u001b[0m | \u001b[0m 0.15    \u001b[0m | \u001b[0m 0.01    \u001b[0m | \u001b[0m 3.386   \u001b[0m |\n",
            "| \u001b[0m 12      \u001b[0m | \u001b[0m 0.1519  \u001b[0m | \u001b[0m 0.01    \u001b[0m | \u001b[0m 4.704   \u001b[0m |\n",
            "| \u001b[0m 13      \u001b[0m | \u001b[0m 0.1464  \u001b[0m | \u001b[0m 0.01    \u001b[0m | \u001b[0m 2.225   \u001b[0m |\n",
            "| \u001b[0m 14      \u001b[0m | \u001b[0m 0.1498  \u001b[0m | \u001b[0m 0.01007 \u001b[0m | \u001b[0m 4.376   \u001b[0m |\n",
            "| \u001b[0m 15      \u001b[0m | \u001b[0m 0.15    \u001b[0m | \u001b[0m 0.01    \u001b[0m | \u001b[0m 3.877   \u001b[0m |\n",
            "| \u001b[0m 16      \u001b[0m | \u001b[0m 0.1519  \u001b[0m | \u001b[0m 0.01    \u001b[0m | \u001b[0m 4.802   \u001b[0m |\n",
            "| \u001b[0m 17      \u001b[0m | \u001b[0m 0.1464  \u001b[0m | \u001b[0m 0.01    \u001b[0m | \u001b[0m 2.921   \u001b[0m |\n",
            "| \u001b[0m 18      \u001b[0m | \u001b[0m 0.1405  \u001b[0m | \u001b[0m 0.01065 \u001b[0m | \u001b[0m 4.091   \u001b[0m |\n",
            "| \u001b[0m 19      \u001b[0m | \u001b[0m 0.1243  \u001b[0m | \u001b[0m 0.01166 \u001b[0m | \u001b[0m 4.623   \u001b[0m |\n",
            "| \u001b[0m 20      \u001b[0m | \u001b[0m-0.2703  \u001b[0m | \u001b[0m 1.0     \u001b[0m | \u001b[0m 3.351   \u001b[0m |\n",
            "| \u001b[0m 21      \u001b[0m | \u001b[0m-0.4928  \u001b[0m | \u001b[0m 0.5899  \u001b[0m | \u001b[0m 2.747   \u001b[0m |\n",
            "| \u001b[0m 22      \u001b[0m | \u001b[0m-1.062   \u001b[0m | \u001b[0m 1.0     \u001b[0m | \u001b[0m 4.004   \u001b[0m |\n",
            "| \u001b[0m 23      \u001b[0m | \u001b[0m-0.8231  \u001b[0m | \u001b[0m 0.9806  \u001b[0m | \u001b[0m 4.992   \u001b[0m |\n",
            "| \u001b[0m 24      \u001b[0m | \u001b[0m-0.1513  \u001b[0m | \u001b[0m 0.433   \u001b[0m | \u001b[0m 3.415   \u001b[0m |\n",
            "| \u001b[0m 25      \u001b[0m | \u001b[0m-0.2095  \u001b[0m | \u001b[0m 0.3756  \u001b[0m | \u001b[0m 2.0     \u001b[0m |\n",
            "| \u001b[0m 26      \u001b[0m | \u001b[0m-0.3421  \u001b[0m | \u001b[0m 0.3843  \u001b[0m | \u001b[0m 5.0     \u001b[0m |\n",
            "| \u001b[0m 27      \u001b[0m | \u001b[0m-0.6386  \u001b[0m | \u001b[0m 1.0     \u001b[0m | \u001b[0m 2.884   \u001b[0m |\n",
            "| \u001b[0m 28      \u001b[0m | \u001b[0m-0.03298 \u001b[0m | \u001b[0m 0.2297  \u001b[0m | \u001b[0m 3.063   \u001b[0m |\n",
            "| \u001b[0m 29      \u001b[0m | \u001b[0m-0.02389 \u001b[0m | \u001b[0m 0.2313  \u001b[0m | \u001b[0m 3.835   \u001b[0m |\n",
            "| \u001b[0m 30      \u001b[0m | \u001b[0m-0.06512 \u001b[0m | \u001b[0m 0.1861  \u001b[0m | \u001b[0m 2.42    \u001b[0m |\n",
            "| \u001b[95m 31      \u001b[0m | \u001b[95m 0.1535  \u001b[0m | \u001b[95m 0.01165 \u001b[0m | \u001b[95m 2.722   \u001b[0m |\n",
            "| \u001b[0m 32      \u001b[0m | \u001b[0m-0.06584 \u001b[0m | \u001b[0m 0.121   \u001b[0m | \u001b[0m 3.508   \u001b[0m |\n",
            "=================================================\n",
            "{'target': 0.1535336409126924, 'params': {'learning_rate': 0.011648459370649374, 'num_leaves': 2.7218980502985026}}\n"
          ],
          "name": "stdout"
        }
      ]
    },
    {
      "cell_type": "markdown",
      "metadata": {
        "id": "Oag1LLnWc5bs",
        "colab_type": "text"
      },
      "source": [
        "**XG Boost:**"
      ]
    },
    {
      "cell_type": "code",
      "metadata": {
        "id": "TXTtPVSyu4sm",
        "colab_type": "code",
        "colab": {
          "base_uri": "https://localhost:8080/",
          "height": 1000
        },
        "outputId": "f0aa17b2-5755-4447-e1a3-309263928c36"
      },
      "source": [
        "params_XGB = {\"eta\": (0.1, 0.5),\n",
        "               \"max_depth\": (1, 10),\n",
        "               \"num_round\": (1, 40)}\n",
        "\n",
        "BO_XGB = optimize(algorithm = xgb.XGBRegressor, data = train_data_numpy, targets = train_target_numpy, params = params_XGB, n_iter=30)\n",
        "\n",
        "print(BO_XGB.max)\n",
        "\n",
        "max_params_XGB = BO_XGB.max['params']\n",
        "\n",
        "model_XGB = xgb.XGBRegressor(max_depth = int(max_params_XGB['max_depth']), \n",
        "                             num_round = int(max_params_XGB['num_round']),\n",
        "                             eta = max_params_XGB['eta']\n",
        "                             )             \n",
        "\n",
        "model_XGB.fit(train_data_numpy, train_target_numpy)     \n",
        "\n",
        "model_list.append(model_XGB)"
      ],
      "execution_count": 12,
      "outputs": [
        {
          "output_type": "stream",
          "text": [
            "|   iter    |  target   |    eta    | max_depth | num_round |\n",
            "-------------------------------------------------------------\n",
            "[19:31:39] WARNING: /workspace/src/objective/regression_obj.cu:152: reg:linear is now deprecated in favor of reg:squarederror.\n",
            "[19:31:40] WARNING: /workspace/src/objective/regression_obj.cu:152: reg:linear is now deprecated in favor of reg:squarederror.\n",
            "[19:31:40] WARNING: /workspace/src/objective/regression_obj.cu:152: reg:linear is now deprecated in favor of reg:squarederror.\n",
            "[19:31:40] WARNING: /workspace/src/objective/regression_obj.cu:152: reg:linear is now deprecated in favor of reg:squarederror.\n",
            "[19:31:41] WARNING: /workspace/src/objective/regression_obj.cu:152: reg:linear is now deprecated in favor of reg:squarederror.\n",
            "| \u001b[0m 1       \u001b[0m | \u001b[0m 0.06616 \u001b[0m | \u001b[0m 0.2703  \u001b[0m | \u001b[0m 8.331   \u001b[0m | \u001b[0m 29.68   \u001b[0m |\n",
            "[19:31:41] WARNING: /workspace/src/objective/regression_obj.cu:152: reg:linear is now deprecated in favor of reg:squarederror.\n",
            "[19:31:41] WARNING: /workspace/src/objective/regression_obj.cu:152: reg:linear is now deprecated in favor of reg:squarederror.\n",
            "[19:31:41] WARNING: /workspace/src/objective/regression_obj.cu:152: reg:linear is now deprecated in favor of reg:squarederror.\n",
            "[19:31:42] WARNING: /workspace/src/objective/regression_obj.cu:152: reg:linear is now deprecated in favor of reg:squarederror.\n",
            "[19:31:42] WARNING: /workspace/src/objective/regression_obj.cu:152: reg:linear is now deprecated in favor of reg:squarederror.\n",
            "| \u001b[0m 2       \u001b[0m | \u001b[0m-0.007345\u001b[0m | \u001b[0m 0.4472  \u001b[0m | \u001b[0m 4.45    \u001b[0m | \u001b[0m 39.2    \u001b[0m |\n",
            "[19:31:42] WARNING: /workspace/src/objective/regression_obj.cu:152: reg:linear is now deprecated in favor of reg:squarederror.\n",
            "[19:31:42] WARNING: /workspace/src/objective/regression_obj.cu:152: reg:linear is now deprecated in favor of reg:squarederror.\n",
            "[19:31:42] WARNING: /workspace/src/objective/regression_obj.cu:152: reg:linear is now deprecated in favor of reg:squarederror.\n",
            "[19:31:42] WARNING: /workspace/src/objective/regression_obj.cu:152: reg:linear is now deprecated in favor of reg:squarederror.\n",
            "[19:31:42] WARNING: /workspace/src/objective/regression_obj.cu:152: reg:linear is now deprecated in favor of reg:squarederror.\n",
            "| \u001b[0m 3       \u001b[0m | \u001b[0m 0.02946 \u001b[0m | \u001b[0m 0.5     \u001b[0m | \u001b[0m 1.0     \u001b[0m | \u001b[0m 1.0     \u001b[0m |\n",
            "[19:31:42] WARNING: /workspace/src/objective/regression_obj.cu:152: reg:linear is now deprecated in favor of reg:squarederror.\n",
            "[19:31:43] WARNING: /workspace/src/objective/regression_obj.cu:152: reg:linear is now deprecated in favor of reg:squarederror.\n",
            "[19:31:43] WARNING: /workspace/src/objective/regression_obj.cu:152: reg:linear is now deprecated in favor of reg:squarederror.\n",
            "[19:31:44] WARNING: /workspace/src/objective/regression_obj.cu:152: reg:linear is now deprecated in favor of reg:squarederror.\n",
            "[19:31:44] WARNING: /workspace/src/objective/regression_obj.cu:152: reg:linear is now deprecated in favor of reg:squarederror.\n",
            "| \u001b[0m 4       \u001b[0m | \u001b[0m 0.04771 \u001b[0m | \u001b[0m 0.1     \u001b[0m | \u001b[0m 10.0    \u001b[0m | \u001b[0m 1.0     \u001b[0m |\n",
            "[19:31:45] WARNING: /workspace/src/objective/regression_obj.cu:152: reg:linear is now deprecated in favor of reg:squarederror.\n",
            "[19:31:45] WARNING: /workspace/src/objective/regression_obj.cu:152: reg:linear is now deprecated in favor of reg:squarederror.\n",
            "[19:31:45] WARNING: /workspace/src/objective/regression_obj.cu:152: reg:linear is now deprecated in favor of reg:squarederror.\n",
            "[19:31:46] WARNING: /workspace/src/objective/regression_obj.cu:152: reg:linear is now deprecated in favor of reg:squarederror.\n",
            "[19:31:46] WARNING: /workspace/src/objective/regression_obj.cu:152: reg:linear is now deprecated in favor of reg:squarederror.\n",
            "| \u001b[0m 5       \u001b[0m | \u001b[0m 0.02946 \u001b[0m | \u001b[0m 0.1     \u001b[0m | \u001b[0m 1.0     \u001b[0m | \u001b[0m 19.19   \u001b[0m |\n",
            "[19:31:46] WARNING: /workspace/src/objective/regression_obj.cu:152: reg:linear is now deprecated in favor of reg:squarederror.\n",
            "[19:31:46] WARNING: /workspace/src/objective/regression_obj.cu:152: reg:linear is now deprecated in favor of reg:squarederror.\n",
            "[19:31:47] WARNING: /workspace/src/objective/regression_obj.cu:152: reg:linear is now deprecated in favor of reg:squarederror.\n",
            "[19:31:47] WARNING: /workspace/src/objective/regression_obj.cu:152: reg:linear is now deprecated in favor of reg:squarederror.\n",
            "[19:31:48] WARNING: /workspace/src/objective/regression_obj.cu:152: reg:linear is now deprecated in favor of reg:squarederror.\n",
            "| \u001b[0m 6       \u001b[0m | \u001b[0m-0.007048\u001b[0m | \u001b[0m 0.4357  \u001b[0m | \u001b[0m 9.99    \u001b[0m | \u001b[0m 18.07   \u001b[0m |\n",
            "[19:31:49] WARNING: /workspace/src/objective/regression_obj.cu:152: reg:linear is now deprecated in favor of reg:squarederror.\n",
            "[19:31:49] WARNING: /workspace/src/objective/regression_obj.cu:152: reg:linear is now deprecated in favor of reg:squarederror.\n",
            "[19:31:49] WARNING: /workspace/src/objective/regression_obj.cu:152: reg:linear is now deprecated in favor of reg:squarederror.\n",
            "[19:31:50] WARNING: /workspace/src/objective/regression_obj.cu:152: reg:linear is now deprecated in favor of reg:squarederror.\n",
            "[19:31:50] WARNING: /workspace/src/objective/regression_obj.cu:152: reg:linear is now deprecated in favor of reg:squarederror.\n",
            "| \u001b[0m 7       \u001b[0m | \u001b[0m 0.04771 \u001b[0m | \u001b[0m 0.1     \u001b[0m | \u001b[0m 10.0    \u001b[0m | \u001b[0m 40.0    \u001b[0m |\n",
            "[19:31:51] WARNING: /workspace/src/objective/regression_obj.cu:152: reg:linear is now deprecated in favor of reg:squarederror.\n",
            "[19:31:52] WARNING: /workspace/src/objective/regression_obj.cu:152: reg:linear is now deprecated in favor of reg:squarederror.\n",
            "[19:31:52] WARNING: /workspace/src/objective/regression_obj.cu:152: reg:linear is now deprecated in favor of reg:squarederror.\n",
            "[19:31:53] WARNING: /workspace/src/objective/regression_obj.cu:152: reg:linear is now deprecated in favor of reg:squarederror.\n",
            "[19:31:53] WARNING: /workspace/src/objective/regression_obj.cu:152: reg:linear is now deprecated in favor of reg:squarederror.\n",
            "| \u001b[0m 8       \u001b[0m | \u001b[0m 0.04771 \u001b[0m | \u001b[0m 0.5     \u001b[0m | \u001b[0m 10.0    \u001b[0m | \u001b[0m 34.45   \u001b[0m |\n",
            "[19:31:54] WARNING: /workspace/src/objective/regression_obj.cu:152: reg:linear is now deprecated in favor of reg:squarederror.\n",
            "[19:31:54] WARNING: /workspace/src/objective/regression_obj.cu:152: reg:linear is now deprecated in favor of reg:squarederror.\n",
            "[19:31:54] WARNING: /workspace/src/objective/regression_obj.cu:152: reg:linear is now deprecated in favor of reg:squarederror.\n",
            "[19:31:55] WARNING: /workspace/src/objective/regression_obj.cu:152: reg:linear is now deprecated in favor of reg:squarederror.\n",
            "[19:31:55] WARNING: /workspace/src/objective/regression_obj.cu:152: reg:linear is now deprecated in favor of reg:squarederror.\n",
            "| \u001b[0m 9       \u001b[0m | \u001b[0m 0.05496 \u001b[0m | \u001b[0m 0.2461  \u001b[0m | \u001b[0m 6.635   \u001b[0m | \u001b[0m 32.59   \u001b[0m |\n",
            "[19:31:55] WARNING: /workspace/src/objective/regression_obj.cu:152: reg:linear is now deprecated in favor of reg:squarederror.\n",
            "[19:31:55] WARNING: /workspace/src/objective/regression_obj.cu:152: reg:linear is now deprecated in favor of reg:squarederror.\n",
            "[19:31:56] WARNING: /workspace/src/objective/regression_obj.cu:152: reg:linear is now deprecated in favor of reg:squarederror.\n",
            "[19:31:56] WARNING: /workspace/src/objective/regression_obj.cu:152: reg:linear is now deprecated in favor of reg:squarederror.\n",
            "[19:31:56] WARNING: /workspace/src/objective/regression_obj.cu:152: reg:linear is now deprecated in favor of reg:squarederror.\n",
            "| \u001b[0m 10      \u001b[0m | \u001b[0m 0.02946 \u001b[0m | \u001b[0m 0.1527  \u001b[0m | \u001b[0m 1.022   \u001b[0m | \u001b[0m 27.86   \u001b[0m |\n",
            "[19:31:56] WARNING: /workspace/src/objective/regression_obj.cu:152: reg:linear is now deprecated in favor of reg:squarederror.\n",
            "[19:31:56] WARNING: /workspace/src/objective/regression_obj.cu:152: reg:linear is now deprecated in favor of reg:squarederror.\n",
            "[19:31:57] WARNING: /workspace/src/objective/regression_obj.cu:152: reg:linear is now deprecated in favor of reg:squarederror.\n",
            "[19:31:57] WARNING: /workspace/src/objective/regression_obj.cu:152: reg:linear is now deprecated in favor of reg:squarederror.\n",
            "[19:31:58] WARNING: /workspace/src/objective/regression_obj.cu:152: reg:linear is now deprecated in favor of reg:squarederror.\n",
            "| \u001b[0m 11      \u001b[0m | \u001b[0m-0.007048\u001b[0m | \u001b[0m 0.1015  \u001b[0m | \u001b[0m 9.848   \u001b[0m | \u001b[0m 29.49   \u001b[0m |\n",
            "[19:31:59] WARNING: /workspace/src/objective/regression_obj.cu:152: reg:linear is now deprecated in favor of reg:squarederror.\n",
            "[19:31:59] WARNING: /workspace/src/objective/regression_obj.cu:152: reg:linear is now deprecated in favor of reg:squarederror.\n",
            "[19:31:59] WARNING: /workspace/src/objective/regression_obj.cu:152: reg:linear is now deprecated in favor of reg:squarederror.\n",
            "[19:31:59] WARNING: /workspace/src/objective/regression_obj.cu:152: reg:linear is now deprecated in favor of reg:squarederror.\n",
            "[19:31:59] WARNING: /workspace/src/objective/regression_obj.cu:152: reg:linear is now deprecated in favor of reg:squarederror.\n",
            "| \u001b[95m 12      \u001b[0m | \u001b[95m 0.08217 \u001b[0m | \u001b[95m 0.5     \u001b[0m | \u001b[95m 5.313   \u001b[0m | \u001b[95m 8.658   \u001b[0m |\n",
            "[19:32:00] WARNING: /workspace/src/objective/regression_obj.cu:152: reg:linear is now deprecated in favor of reg:squarederror.\n",
            "[19:32:00] WARNING: /workspace/src/objective/regression_obj.cu:152: reg:linear is now deprecated in favor of reg:squarederror.\n",
            "[19:32:01] WARNING: /workspace/src/objective/regression_obj.cu:152: reg:linear is now deprecated in favor of reg:squarederror.\n",
            "[19:32:01] WARNING: /workspace/src/objective/regression_obj.cu:152: reg:linear is now deprecated in favor of reg:squarederror.\n",
            "[19:32:01] WARNING: /workspace/src/objective/regression_obj.cu:152: reg:linear is now deprecated in favor of reg:squarederror.\n",
            "| \u001b[0m 13      \u001b[0m | \u001b[0m 0.08217 \u001b[0m | \u001b[0m 0.5     \u001b[0m | \u001b[0m 5.095   \u001b[0m | \u001b[0m 23.49   \u001b[0m |\n",
            "[19:32:02] WARNING: /workspace/src/objective/regression_obj.cu:152: reg:linear is now deprecated in favor of reg:squarederror.\n",
            "[19:32:02] WARNING: /workspace/src/objective/regression_obj.cu:152: reg:linear is now deprecated in favor of reg:squarederror.\n",
            "[19:32:03] WARNING: /workspace/src/objective/regression_obj.cu:152: reg:linear is now deprecated in favor of reg:squarederror.\n",
            "[19:32:03] WARNING: /workspace/src/objective/regression_obj.cu:152: reg:linear is now deprecated in favor of reg:squarederror.\n",
            "[19:32:04] WARNING: /workspace/src/objective/regression_obj.cu:152: reg:linear is now deprecated in favor of reg:squarederror.\n",
            "| \u001b[0m 14      \u001b[0m | \u001b[0m 0.04771 \u001b[0m | \u001b[0m 0.5     \u001b[0m | \u001b[0m 10.0    \u001b[0m | \u001b[0m 8.342   \u001b[0m |\n",
            "[19:32:04] WARNING: /workspace/src/objective/regression_obj.cu:152: reg:linear is now deprecated in favor of reg:squarederror.\n",
            "[19:32:05] WARNING: /workspace/src/objective/regression_obj.cu:152: reg:linear is now deprecated in favor of reg:squarederror.\n",
            "[19:32:05] WARNING: /workspace/src/objective/regression_obj.cu:152: reg:linear is now deprecated in favor of reg:squarederror.\n",
            "[19:32:05] WARNING: /workspace/src/objective/regression_obj.cu:152: reg:linear is now deprecated in favor of reg:squarederror.\n",
            "[19:32:05] WARNING: /workspace/src/objective/regression_obj.cu:152: reg:linear is now deprecated in favor of reg:squarederror.\n",
            "| \u001b[0m 15      \u001b[0m | \u001b[0m 0.02946 \u001b[0m | \u001b[0m 0.5     \u001b[0m | \u001b[0m 1.0     \u001b[0m | \u001b[0m 9.944   \u001b[0m |\n",
            "[19:32:05] WARNING: /workspace/src/objective/regression_obj.cu:152: reg:linear is now deprecated in favor of reg:squarederror.\n",
            "[19:32:05] WARNING: /workspace/src/objective/regression_obj.cu:152: reg:linear is now deprecated in favor of reg:squarederror.\n",
            "[19:32:06] WARNING: /workspace/src/objective/regression_obj.cu:152: reg:linear is now deprecated in favor of reg:squarederror.\n",
            "[19:32:06] WARNING: /workspace/src/objective/regression_obj.cu:152: reg:linear is now deprecated in favor of reg:squarederror.\n",
            "[19:32:06] WARNING: /workspace/src/objective/regression_obj.cu:152: reg:linear is now deprecated in favor of reg:squarederror.\n",
            "| \u001b[0m 16      \u001b[0m | \u001b[0m 0.08217 \u001b[0m | \u001b[0m 0.5     \u001b[0m | \u001b[0m 5.403   \u001b[0m | \u001b[0m 14.5    \u001b[0m |\n",
            "[19:32:07] WARNING: /workspace/src/objective/regression_obj.cu:152: reg:linear is now deprecated in favor of reg:squarederror.\n",
            "[19:32:07] WARNING: /workspace/src/objective/regression_obj.cu:152: reg:linear is now deprecated in favor of reg:squarederror.\n",
            "[19:32:07] WARNING: /workspace/src/objective/regression_obj.cu:152: reg:linear is now deprecated in favor of reg:squarederror.\n",
            "[19:32:07] WARNING: /workspace/src/objective/regression_obj.cu:152: reg:linear is now deprecated in favor of reg:squarederror.\n",
            "[19:32:08] WARNING: /workspace/src/objective/regression_obj.cu:152: reg:linear is now deprecated in favor of reg:squarederror.\n",
            "| \u001b[0m 17      \u001b[0m | \u001b[0m 0.05496 \u001b[0m | \u001b[0m 0.5     \u001b[0m | \u001b[0m 6.01    \u001b[0m | \u001b[0m 1.0     \u001b[0m |\n",
            "[19:32:08] WARNING: /workspace/src/objective/regression_obj.cu:152: reg:linear is now deprecated in favor of reg:squarederror.\n",
            "[19:32:09] WARNING: /workspace/src/objective/regression_obj.cu:152: reg:linear is now deprecated in favor of reg:squarederror.\n",
            "[19:32:09] WARNING: /workspace/src/objective/regression_obj.cu:152: reg:linear is now deprecated in favor of reg:squarederror.\n",
            "[19:32:09] WARNING: /workspace/src/objective/regression_obj.cu:152: reg:linear is now deprecated in favor of reg:squarederror.\n",
            "[19:32:09] WARNING: /workspace/src/objective/regression_obj.cu:152: reg:linear is now deprecated in favor of reg:squarederror.\n",
            "| \u001b[0m 18      \u001b[0m | \u001b[0m 0.08217 \u001b[0m | \u001b[0m 0.4944  \u001b[0m | \u001b[0m 5.259   \u001b[0m | \u001b[0m 28.37   \u001b[0m |\n",
            "[19:32:10] WARNING: /workspace/src/objective/regression_obj.cu:152: reg:linear is now deprecated in favor of reg:squarederror.\n",
            "[19:32:10] WARNING: /workspace/src/objective/regression_obj.cu:152: reg:linear is now deprecated in favor of reg:squarederror.\n",
            "[19:32:10] WARNING: /workspace/src/objective/regression_obj.cu:152: reg:linear is now deprecated in favor of reg:squarederror.\n",
            "[19:32:10] WARNING: /workspace/src/objective/regression_obj.cu:152: reg:linear is now deprecated in favor of reg:squarederror.\n",
            "[19:32:11] WARNING: /workspace/src/objective/regression_obj.cu:152: reg:linear is now deprecated in favor of reg:squarederror.\n",
            "| \u001b[0m 19      \u001b[0m | \u001b[0m 0.08217 \u001b[0m | \u001b[0m 0.101   \u001b[0m | \u001b[0m 5.475   \u001b[0m | \u001b[0m 4.588   \u001b[0m |\n",
            "[19:32:11] WARNING: /workspace/src/objective/regression_obj.cu:152: reg:linear is now deprecated in favor of reg:squarederror.\n",
            "[19:32:12] WARNING: /workspace/src/objective/regression_obj.cu:152: reg:linear is now deprecated in favor of reg:squarederror.\n",
            "[19:32:12] WARNING: /workspace/src/objective/regression_obj.cu:152: reg:linear is now deprecated in favor of reg:squarederror.\n",
            "[19:32:12] WARNING: /workspace/src/objective/regression_obj.cu:152: reg:linear is now deprecated in favor of reg:squarederror.\n",
            "[19:32:13] WARNING: /workspace/src/objective/regression_obj.cu:152: reg:linear is now deprecated in favor of reg:squarederror.\n",
            "| \u001b[0m 20      \u001b[0m | \u001b[0m 0.04593 \u001b[0m | \u001b[0m 0.1167  \u001b[0m | \u001b[0m 7.39    \u001b[0m | \u001b[0m 12.01   \u001b[0m |\n",
            "[19:32:13] WARNING: /workspace/src/objective/regression_obj.cu:152: reg:linear is now deprecated in favor of reg:squarederror.\n",
            "[19:32:13] WARNING: /workspace/src/objective/regression_obj.cu:152: reg:linear is now deprecated in favor of reg:squarederror.\n",
            "[19:32:14] WARNING: /workspace/src/objective/regression_obj.cu:152: reg:linear is now deprecated in favor of reg:squarederror.\n",
            "[19:32:14] WARNING: /workspace/src/objective/regression_obj.cu:152: reg:linear is now deprecated in favor of reg:squarederror.\n",
            "[19:32:14] WARNING: /workspace/src/objective/regression_obj.cu:152: reg:linear is now deprecated in favor of reg:squarederror.\n",
            "| \u001b[0m 21      \u001b[0m | \u001b[0m-0.007345\u001b[0m | \u001b[0m 0.49    \u001b[0m | \u001b[0m 4.994   \u001b[0m | \u001b[0m 18.87   \u001b[0m |\n",
            "[19:32:14] WARNING: /workspace/src/objective/regression_obj.cu:152: reg:linear is now deprecated in favor of reg:squarederror.\n",
            "[19:32:15] WARNING: /workspace/src/objective/regression_obj.cu:152: reg:linear is now deprecated in favor of reg:squarederror.\n",
            "[19:32:15] WARNING: /workspace/src/objective/regression_obj.cu:152: reg:linear is now deprecated in favor of reg:squarederror.\n",
            "[19:32:15] WARNING: /workspace/src/objective/regression_obj.cu:152: reg:linear is now deprecated in favor of reg:squarederror.\n",
            "[19:32:15] WARNING: /workspace/src/objective/regression_obj.cu:152: reg:linear is now deprecated in favor of reg:squarederror.\n",
            "| \u001b[0m 22      \u001b[0m | \u001b[0m 0.02946 \u001b[0m | \u001b[0m 0.5     \u001b[0m | \u001b[0m 1.0     \u001b[0m | \u001b[0m 23.79   \u001b[0m |\n",
            "[19:32:15] WARNING: /workspace/src/objective/regression_obj.cu:152: reg:linear is now deprecated in favor of reg:squarederror.\n",
            "[19:32:15] WARNING: /workspace/src/objective/regression_obj.cu:152: reg:linear is now deprecated in favor of reg:squarederror.\n",
            "[19:32:15] WARNING: /workspace/src/objective/regression_obj.cu:152: reg:linear is now deprecated in favor of reg:squarederror.\n",
            "[19:32:15] WARNING: /workspace/src/objective/regression_obj.cu:152: reg:linear is now deprecated in favor of reg:squarederror.\n",
            "[19:32:16] WARNING: /workspace/src/objective/regression_obj.cu:152: reg:linear is now deprecated in favor of reg:squarederror.\n",
            "| \u001b[0m 23      \u001b[0m | \u001b[0m 0.02946 \u001b[0m | \u001b[0m 0.5     \u001b[0m | \u001b[0m 1.0     \u001b[0m | \u001b[0m 40.0    \u001b[0m |\n",
            "[19:32:16] WARNING: /workspace/src/objective/regression_obj.cu:152: reg:linear is now deprecated in favor of reg:squarederror.\n",
            "[19:32:16] WARNING: /workspace/src/objective/regression_obj.cu:152: reg:linear is now deprecated in favor of reg:squarederror.\n",
            "[19:32:16] WARNING: /workspace/src/objective/regression_obj.cu:152: reg:linear is now deprecated in favor of reg:squarederror.\n",
            "[19:32:16] WARNING: /workspace/src/objective/regression_obj.cu:152: reg:linear is now deprecated in favor of reg:squarederror.\n",
            "[19:32:16] WARNING: /workspace/src/objective/regression_obj.cu:152: reg:linear is now deprecated in favor of reg:squarederror.\n",
            "| \u001b[0m 24      \u001b[0m | \u001b[0m 0.02946 \u001b[0m | \u001b[0m 0.5     \u001b[0m | \u001b[0m 1.0     \u001b[0m | \u001b[0m 34.79   \u001b[0m |\n",
            "[19:32:17] WARNING: /workspace/src/objective/regression_obj.cu:152: reg:linear is now deprecated in favor of reg:squarederror.\n",
            "[19:32:17] WARNING: /workspace/src/objective/regression_obj.cu:152: reg:linear is now deprecated in favor of reg:squarederror.\n",
            "[19:32:17] WARNING: /workspace/src/objective/regression_obj.cu:152: reg:linear is now deprecated in favor of reg:squarederror.\n",
            "[19:32:17] WARNING: /workspace/src/objective/regression_obj.cu:152: reg:linear is now deprecated in favor of reg:squarederror.\n",
            "[19:32:17] WARNING: /workspace/src/objective/regression_obj.cu:152: reg:linear is now deprecated in favor of reg:squarederror.\n",
            "| \u001b[0m 25      \u001b[0m | \u001b[0m 0.02946 \u001b[0m | \u001b[0m 0.4826  \u001b[0m | \u001b[0m 1.132   \u001b[0m | \u001b[0m 14.69   \u001b[0m |\n",
            "[19:32:17] WARNING: /workspace/src/objective/regression_obj.cu:152: reg:linear is now deprecated in favor of reg:squarederror.\n",
            "[19:32:18] WARNING: /workspace/src/objective/regression_obj.cu:152: reg:linear is now deprecated in favor of reg:squarederror.\n",
            "[19:32:18] WARNING: /workspace/src/objective/regression_obj.cu:152: reg:linear is now deprecated in favor of reg:squarederror.\n",
            "[19:32:19] WARNING: /workspace/src/objective/regression_obj.cu:152: reg:linear is now deprecated in favor of reg:squarederror.\n",
            "[19:32:19] WARNING: /workspace/src/objective/regression_obj.cu:152: reg:linear is now deprecated in favor of reg:squarederror.\n",
            "| \u001b[0m 26      \u001b[0m | \u001b[0m 0.04771 \u001b[0m | \u001b[0m 0.5     \u001b[0m | \u001b[0m 10.0    \u001b[0m | \u001b[0m 4.063   \u001b[0m |\n",
            "[19:32:20] WARNING: /workspace/src/objective/regression_obj.cu:152: reg:linear is now deprecated in favor of reg:squarederror.\n",
            "[19:32:21] WARNING: /workspace/src/objective/regression_obj.cu:152: reg:linear is now deprecated in favor of reg:squarederror.\n",
            "[19:32:21] WARNING: /workspace/src/objective/regression_obj.cu:152: reg:linear is now deprecated in favor of reg:squarederror.\n",
            "[19:32:21] WARNING: /workspace/src/objective/regression_obj.cu:152: reg:linear is now deprecated in favor of reg:squarederror.\n",
            "[19:32:21] WARNING: /workspace/src/objective/regression_obj.cu:152: reg:linear is now deprecated in favor of reg:squarederror.\n",
            "| \u001b[0m 27      \u001b[0m | \u001b[0m 0.04593 \u001b[0m | \u001b[0m 0.4788  \u001b[0m | \u001b[0m 7.782   \u001b[0m | \u001b[0m 25.25   \u001b[0m |\n",
            "[19:32:22] WARNING: /workspace/src/objective/regression_obj.cu:152: reg:linear is now deprecated in favor of reg:squarederror.\n",
            "[19:32:22] WARNING: /workspace/src/objective/regression_obj.cu:152: reg:linear is now deprecated in favor of reg:squarederror.\n",
            "[19:32:22] WARNING: /workspace/src/objective/regression_obj.cu:152: reg:linear is now deprecated in favor of reg:squarederror.\n",
            "[19:32:22] WARNING: /workspace/src/objective/regression_obj.cu:152: reg:linear is now deprecated in favor of reg:squarederror.\n",
            "[19:32:23] WARNING: /workspace/src/objective/regression_obj.cu:152: reg:linear is now deprecated in favor of reg:squarederror.\n",
            "| \u001b[0m 28      \u001b[0m | \u001b[0m-0.006426\u001b[0m | \u001b[0m 0.5     \u001b[0m | \u001b[0m 2.289   \u001b[0m | \u001b[0m 4.931   \u001b[0m |\n",
            "[19:32:23] WARNING: /workspace/src/objective/regression_obj.cu:152: reg:linear is now deprecated in favor of reg:squarederror.\n",
            "[19:32:23] WARNING: /workspace/src/objective/regression_obj.cu:152: reg:linear is now deprecated in favor of reg:squarederror.\n",
            "[19:32:23] WARNING: /workspace/src/objective/regression_obj.cu:152: reg:linear is now deprecated in favor of reg:squarederror.\n",
            "[19:32:24] WARNING: /workspace/src/objective/regression_obj.cu:152: reg:linear is now deprecated in favor of reg:squarederror.\n",
            "[19:32:24] WARNING: /workspace/src/objective/regression_obj.cu:152: reg:linear is now deprecated in favor of reg:squarederror.\n",
            "| \u001b[0m 29      \u001b[0m | \u001b[0m 0.02101 \u001b[0m | \u001b[0m 0.1     \u001b[0m | \u001b[0m 3.717   \u001b[0m | \u001b[0m 12.36   \u001b[0m |\n",
            "[19:32:24] WARNING: /workspace/src/objective/regression_obj.cu:152: reg:linear is now deprecated in favor of reg:squarederror.\n",
            "[19:32:25] WARNING: /workspace/src/objective/regression_obj.cu:152: reg:linear is now deprecated in favor of reg:squarederror.\n",
            "[19:32:25] WARNING: /workspace/src/objective/regression_obj.cu:152: reg:linear is now deprecated in favor of reg:squarederror.\n",
            "[19:32:25] WARNING: /workspace/src/objective/regression_obj.cu:152: reg:linear is now deprecated in favor of reg:squarederror.\n",
            "[19:32:25] WARNING: /workspace/src/objective/regression_obj.cu:152: reg:linear is now deprecated in favor of reg:squarederror.\n",
            "| \u001b[0m 30      \u001b[0m | \u001b[0m 0.04593 \u001b[0m | \u001b[0m 0.5     \u001b[0m | \u001b[0m 7.334   \u001b[0m | \u001b[0m 6.152   \u001b[0m |\n",
            "[19:32:26] WARNING: /workspace/src/objective/regression_obj.cu:152: reg:linear is now deprecated in favor of reg:squarederror.\n",
            "[19:32:27] WARNING: /workspace/src/objective/regression_obj.cu:152: reg:linear is now deprecated in favor of reg:squarederror.\n",
            "[19:32:27] WARNING: /workspace/src/objective/regression_obj.cu:152: reg:linear is now deprecated in favor of reg:squarederror.\n",
            "[19:32:28] WARNING: /workspace/src/objective/regression_obj.cu:152: reg:linear is now deprecated in favor of reg:squarederror.\n",
            "[19:32:28] WARNING: /workspace/src/objective/regression_obj.cu:152: reg:linear is now deprecated in favor of reg:squarederror.\n",
            "| \u001b[0m 31      \u001b[0m | \u001b[0m-0.007048\u001b[0m | \u001b[0m 0.426   \u001b[0m | \u001b[0m 9.996   \u001b[0m | \u001b[0m 14.29   \u001b[0m |\n",
            "[19:32:29] WARNING: /workspace/src/objective/regression_obj.cu:152: reg:linear is now deprecated in favor of reg:squarederror.\n",
            "[19:32:29] WARNING: /workspace/src/objective/regression_obj.cu:152: reg:linear is now deprecated in favor of reg:squarederror.\n",
            "[19:32:29] WARNING: /workspace/src/objective/regression_obj.cu:152: reg:linear is now deprecated in favor of reg:squarederror.\n",
            "[19:32:29] WARNING: /workspace/src/objective/regression_obj.cu:152: reg:linear is now deprecated in favor of reg:squarederror.\n",
            "[19:32:29] WARNING: /workspace/src/objective/regression_obj.cu:152: reg:linear is now deprecated in favor of reg:squarederror.\n",
            "| \u001b[0m 32      \u001b[0m | \u001b[0m 0.02101 \u001b[0m | \u001b[0m 0.1     \u001b[0m | \u001b[0m 3.646   \u001b[0m | \u001b[0m 1.0     \u001b[0m |\n",
            "=============================================================\n",
            "{'target': 0.08217205767507166, 'params': {'eta': 0.5, 'max_depth': 5.313163856591104, 'num_round': 8.658346166288792}}\n",
            "[19:32:30] WARNING: /workspace/src/objective/regression_obj.cu:152: reg:linear is now deprecated in favor of reg:squarederror.\n"
          ],
          "name": "stdout"
        }
      ]
    },
    {
      "cell_type": "markdown",
      "metadata": {
        "id": "-vXlbl5le3cX",
        "colab_type": "text"
      },
      "source": [
        "**Ordinary Least Squares:** No need for Bayesian Optimization \\\\\n",
        "**Multi-Layer Perception:**"
      ]
    },
    {
      "cell_type": "code",
      "metadata": {
        "id": "rcYiHBPND68R",
        "colab_type": "code",
        "colab": {
          "base_uri": "https://localhost:8080/",
          "height": 1000
        },
        "outputId": "3f676780-1c72-474c-8644-42f80e0c48aa"
      },
      "source": [
        "params_MLP = {\"hidden_layer_sizes\": (1, 200),\n",
        "               \"alpha\": (0, 0.4),\n",
        "               \"learning_rate_init\": (0.00001, 1)}\n",
        "\n",
        "BO_MLP = optimize(algorithm = MLPRegressor, data = train_data_numpy, targets = train_target_numpy, params = params_MLP, n_iter=30)\n",
        "\n",
        "print(BO_MLP.max)\n",
        "\n",
        "max_params_MLP = BO_MLP.max['params']\n",
        "\n",
        "model_MLP = MLPRegressor(hidden_layer_sizes= int(max_params_MLP['hidden_layer_sizes']),\n",
        "                         alpha = max_params_MLP['alpha'],\n",
        "                         learning_rate_init= max_params_MLP['learning_rate_init']\n",
        "                         )\n",
        "model_MLP.fit(train_data_numpy, train_target_numpy)\n",
        "\n",
        "model_list.append(model_MLP)"
      ],
      "execution_count": 13,
      "outputs": [
        {
          "output_type": "stream",
          "text": [
            "|   iter    |  target   |   alpha   | hidden... | learni... |\n",
            "-------------------------------------------------------------\n"
          ],
          "name": "stdout"
        },
        {
          "output_type": "stream",
          "text": [
            "/usr/local/lib/python3.6/dist-packages/sklearn/neural_network/_multilayer_perceptron.py:571: ConvergenceWarning: Stochastic Optimizer: Maximum iterations (200) reached and the optimization hasn't converged yet.\n",
            "  % self.max_iter, ConvergenceWarning)\n",
            "/usr/local/lib/python3.6/dist-packages/sklearn/neural_network/_multilayer_perceptron.py:571: ConvergenceWarning: Stochastic Optimizer: Maximum iterations (200) reached and the optimization hasn't converged yet.\n",
            "  % self.max_iter, ConvergenceWarning)\n",
            "/usr/local/lib/python3.6/dist-packages/sklearn/neural_network/_multilayer_perceptron.py:571: ConvergenceWarning: Stochastic Optimizer: Maximum iterations (200) reached and the optimization hasn't converged yet.\n",
            "  % self.max_iter, ConvergenceWarning)\n"
          ],
          "name": "stderr"
        },
        {
          "output_type": "stream",
          "text": [
            "| \u001b[0m 1       \u001b[0m | \u001b[0m-0.2185  \u001b[0m | \u001b[0m 0.1703  \u001b[0m | \u001b[0m 163.1   \u001b[0m | \u001b[0m 0.7354  \u001b[0m |\n"
          ],
          "name": "stdout"
        },
        {
          "output_type": "stream",
          "text": [
            "/usr/local/lib/python3.6/dist-packages/sklearn/neural_network/_multilayer_perceptron.py:571: ConvergenceWarning: Stochastic Optimizer: Maximum iterations (200) reached and the optimization hasn't converged yet.\n",
            "  % self.max_iter, ConvergenceWarning)\n",
            "/usr/local/lib/python3.6/dist-packages/sklearn/neural_network/_multilayer_perceptron.py:571: ConvergenceWarning: Stochastic Optimizer: Maximum iterations (200) reached and the optimization hasn't converged yet.\n",
            "  % self.max_iter, ConvergenceWarning)\n",
            "/usr/local/lib/python3.6/dist-packages/sklearn/neural_network/_multilayer_perceptron.py:571: ConvergenceWarning: Stochastic Optimizer: Maximum iterations (200) reached and the optimization hasn't converged yet.\n",
            "  % self.max_iter, ConvergenceWarning)\n",
            "/usr/local/lib/python3.6/dist-packages/sklearn/neural_network/_multilayer_perceptron.py:571: ConvergenceWarning: Stochastic Optimizer: Maximum iterations (200) reached and the optimization hasn't converged yet.\n",
            "  % self.max_iter, ConvergenceWarning)\n",
            "/usr/local/lib/python3.6/dist-packages/sklearn/neural_network/_multilayer_perceptron.py:571: ConvergenceWarning: Stochastic Optimizer: Maximum iterations (200) reached and the optimization hasn't converged yet.\n",
            "  % self.max_iter, ConvergenceWarning)\n"
          ],
          "name": "stderr"
        },
        {
          "output_type": "stream",
          "text": [
            "| \u001b[95m 2       \u001b[0m | \u001b[95m 0.3975  \u001b[0m | \u001b[95m 0.3472  \u001b[0m | \u001b[95m 77.29   \u001b[0m | \u001b[95m 0.9795  \u001b[0m |\n",
            "| \u001b[0m 3       \u001b[0m | \u001b[0m-0.03076 \u001b[0m | \u001b[0m 0.0     \u001b[0m | \u001b[0m 1.0     \u001b[0m | \u001b[0m 1e-05   \u001b[0m |\n"
          ],
          "name": "stdout"
        },
        {
          "output_type": "stream",
          "text": [
            "/usr/local/lib/python3.6/dist-packages/sklearn/neural_network/_multilayer_perceptron.py:571: ConvergenceWarning: Stochastic Optimizer: Maximum iterations (200) reached and the optimization hasn't converged yet.\n",
            "  % self.max_iter, ConvergenceWarning)\n",
            "/usr/local/lib/python3.6/dist-packages/sklearn/neural_network/_multilayer_perceptron.py:571: ConvergenceWarning: Stochastic Optimizer: Maximum iterations (200) reached and the optimization hasn't converged yet.\n",
            "  % self.max_iter, ConvergenceWarning)\n",
            "/usr/local/lib/python3.6/dist-packages/sklearn/neural_network/_multilayer_perceptron.py:571: ConvergenceWarning: Stochastic Optimizer: Maximum iterations (200) reached and the optimization hasn't converged yet.\n",
            "  % self.max_iter, ConvergenceWarning)\n",
            "/usr/local/lib/python3.6/dist-packages/sklearn/neural_network/_multilayer_perceptron.py:571: ConvergenceWarning: Stochastic Optimizer: Maximum iterations (200) reached and the optimization hasn't converged yet.\n",
            "  % self.max_iter, ConvergenceWarning)\n"
          ],
          "name": "stderr"
        },
        {
          "output_type": "stream",
          "text": [
            "| \u001b[0m 4       \u001b[0m | \u001b[0m-0.474   \u001b[0m | \u001b[0m 0.1917  \u001b[0m | \u001b[0m 75.39   \u001b[0m | \u001b[0m 0.3131  \u001b[0m |\n"
          ],
          "name": "stdout"
        },
        {
          "output_type": "stream",
          "text": [
            "/usr/local/lib/python3.6/dist-packages/sklearn/neural_network/_multilayer_perceptron.py:571: ConvergenceWarning: Stochastic Optimizer: Maximum iterations (200) reached and the optimization hasn't converged yet.\n",
            "  % self.max_iter, ConvergenceWarning)\n",
            "/usr/local/lib/python3.6/dist-packages/sklearn/neural_network/_multilayer_perceptron.py:571: ConvergenceWarning: Stochastic Optimizer: Maximum iterations (200) reached and the optimization hasn't converged yet.\n",
            "  % self.max_iter, ConvergenceWarning)\n",
            "/usr/local/lib/python3.6/dist-packages/sklearn/neural_network/_multilayer_perceptron.py:571: ConvergenceWarning: Stochastic Optimizer: Maximum iterations (200) reached and the optimization hasn't converged yet.\n",
            "  % self.max_iter, ConvergenceWarning)\n",
            "/usr/local/lib/python3.6/dist-packages/sklearn/neural_network/_multilayer_perceptron.py:571: ConvergenceWarning: Stochastic Optimizer: Maximum iterations (200) reached and the optimization hasn't converged yet.\n",
            "  % self.max_iter, ConvergenceWarning)\n",
            "/usr/local/lib/python3.6/dist-packages/sklearn/neural_network/_multilayer_perceptron.py:571: ConvergenceWarning: Stochastic Optimizer: Maximum iterations (200) reached and the optimization hasn't converged yet.\n",
            "  % self.max_iter, ConvergenceWarning)\n"
          ],
          "name": "stderr"
        },
        {
          "output_type": "stream",
          "text": [
            "| \u001b[0m 5       \u001b[0m | \u001b[0m 0.1674  \u001b[0m | \u001b[0m 0.3856  \u001b[0m | \u001b[0m 77.4    \u001b[0m | \u001b[0m 0.9241  \u001b[0m |\n"
          ],
          "name": "stdout"
        },
        {
          "output_type": "stream",
          "text": [
            "/usr/local/lib/python3.6/dist-packages/sklearn/neural_network/_multilayer_perceptron.py:571: ConvergenceWarning: Stochastic Optimizer: Maximum iterations (200) reached and the optimization hasn't converged yet.\n",
            "  % self.max_iter, ConvergenceWarning)\n",
            "/usr/local/lib/python3.6/dist-packages/sklearn/neural_network/_multilayer_perceptron.py:571: ConvergenceWarning: Stochastic Optimizer: Maximum iterations (200) reached and the optimization hasn't converged yet.\n",
            "  % self.max_iter, ConvergenceWarning)\n",
            "/usr/local/lib/python3.6/dist-packages/sklearn/neural_network/_multilayer_perceptron.py:571: ConvergenceWarning: Stochastic Optimizer: Maximum iterations (200) reached and the optimization hasn't converged yet.\n",
            "  % self.max_iter, ConvergenceWarning)\n",
            "/usr/local/lib/python3.6/dist-packages/sklearn/neural_network/_multilayer_perceptron.py:571: ConvergenceWarning: Stochastic Optimizer: Maximum iterations (200) reached and the optimization hasn't converged yet.\n",
            "  % self.max_iter, ConvergenceWarning)\n"
          ],
          "name": "stderr"
        },
        {
          "output_type": "stream",
          "text": [
            "| \u001b[0m 6       \u001b[0m | \u001b[0m 0.1913  \u001b[0m | \u001b[0m 0.3907  \u001b[0m | \u001b[0m 76.42   \u001b[0m | \u001b[0m 0.9841  \u001b[0m |\n",
            "| \u001b[0m 7       \u001b[0m | \u001b[0m 0.293   \u001b[0m | \u001b[0m 0.2008  \u001b[0m | \u001b[0m 31.84   \u001b[0m | \u001b[0m 0.1787  \u001b[0m |\n",
            "| \u001b[0m 8       \u001b[0m | \u001b[0m 0.0     \u001b[0m | \u001b[0m 0.195   \u001b[0m | \u001b[0m 30.26   \u001b[0m | \u001b[0m 0.8411  \u001b[0m |\n"
          ],
          "name": "stdout"
        },
        {
          "output_type": "stream",
          "text": [
            "/usr/local/lib/python3.6/dist-packages/sklearn/neural_network/_multilayer_perceptron.py:571: ConvergenceWarning: Stochastic Optimizer: Maximum iterations (200) reached and the optimization hasn't converged yet.\n",
            "  % self.max_iter, ConvergenceWarning)\n",
            "/usr/local/lib/python3.6/dist-packages/sklearn/neural_network/_multilayer_perceptron.py:571: ConvergenceWarning: Stochastic Optimizer: Maximum iterations (200) reached and the optimization hasn't converged yet.\n",
            "  % self.max_iter, ConvergenceWarning)\n",
            "/usr/local/lib/python3.6/dist-packages/sklearn/neural_network/_multilayer_perceptron.py:571: ConvergenceWarning: Stochastic Optimizer: Maximum iterations (200) reached and the optimization hasn't converged yet.\n",
            "  % self.max_iter, ConvergenceWarning)\n"
          ],
          "name": "stderr"
        },
        {
          "output_type": "stream",
          "text": [
            "| \u001b[0m 9       \u001b[0m | \u001b[0m 0.1065  \u001b[0m | \u001b[0m 0.02639 \u001b[0m | \u001b[0m 33.51   \u001b[0m | \u001b[0m 0.5639  \u001b[0m |\n",
            "| \u001b[0m 10      \u001b[0m | \u001b[0m 0.08497 \u001b[0m | \u001b[0m 0.2349  \u001b[0m | \u001b[0m 36.0    \u001b[0m | \u001b[0m 0.008072\u001b[0m |\n"
          ],
          "name": "stdout"
        },
        {
          "output_type": "stream",
          "text": [
            "/usr/local/lib/python3.6/dist-packages/sklearn/neural_network/_multilayer_perceptron.py:571: ConvergenceWarning: Stochastic Optimizer: Maximum iterations (200) reached and the optimization hasn't converged yet.\n",
            "  % self.max_iter, ConvergenceWarning)\n",
            "/usr/local/lib/python3.6/dist-packages/sklearn/neural_network/_multilayer_perceptron.py:571: ConvergenceWarning: Stochastic Optimizer: Maximum iterations (200) reached and the optimization hasn't converged yet.\n",
            "  % self.max_iter, ConvergenceWarning)\n",
            "/usr/local/lib/python3.6/dist-packages/sklearn/neural_network/_multilayer_perceptron.py:571: ConvergenceWarning: Stochastic Optimizer: Maximum iterations (200) reached and the optimization hasn't converged yet.\n",
            "  % self.max_iter, ConvergenceWarning)\n"
          ],
          "name": "stderr"
        },
        {
          "output_type": "stream",
          "text": [
            "| \u001b[0m 11      \u001b[0m | \u001b[0m-0.2267  \u001b[0m | \u001b[0m 0.4     \u001b[0m | \u001b[0m 38.53   \u001b[0m | \u001b[0m 1.0     \u001b[0m |\n"
          ],
          "name": "stdout"
        },
        {
          "output_type": "stream",
          "text": [
            "/usr/local/lib/python3.6/dist-packages/sklearn/neural_network/_multilayer_perceptron.py:571: ConvergenceWarning: Stochastic Optimizer: Maximum iterations (200) reached and the optimization hasn't converged yet.\n",
            "  % self.max_iter, ConvergenceWarning)\n",
            "/usr/local/lib/python3.6/dist-packages/sklearn/neural_network/_multilayer_perceptron.py:571: ConvergenceWarning: Stochastic Optimizer: Maximum iterations (200) reached and the optimization hasn't converged yet.\n",
            "  % self.max_iter, ConvergenceWarning)\n",
            "/usr/local/lib/python3.6/dist-packages/sklearn/neural_network/_multilayer_perceptron.py:571: ConvergenceWarning: Stochastic Optimizer: Maximum iterations (200) reached and the optimization hasn't converged yet.\n",
            "  % self.max_iter, ConvergenceWarning)\n"
          ],
          "name": "stderr"
        },
        {
          "output_type": "stream",
          "text": [
            "| \u001b[0m 12      \u001b[0m | \u001b[0m 0.1439  \u001b[0m | \u001b[0m 0.2738  \u001b[0m | \u001b[0m 112.1   \u001b[0m | \u001b[0m 0.5374  \u001b[0m |\n"
          ],
          "name": "stdout"
        },
        {
          "output_type": "stream",
          "text": [
            "/usr/local/lib/python3.6/dist-packages/sklearn/neural_network/_multilayer_perceptron.py:571: ConvergenceWarning: Stochastic Optimizer: Maximum iterations (200) reached and the optimization hasn't converged yet.\n",
            "  % self.max_iter, ConvergenceWarning)\n",
            "/usr/local/lib/python3.6/dist-packages/sklearn/neural_network/_multilayer_perceptron.py:571: ConvergenceWarning: Stochastic Optimizer: Maximum iterations (200) reached and the optimization hasn't converged yet.\n",
            "  % self.max_iter, ConvergenceWarning)\n",
            "/usr/local/lib/python3.6/dist-packages/sklearn/neural_network/_multilayer_perceptron.py:571: ConvergenceWarning: Stochastic Optimizer: Maximum iterations (200) reached and the optimization hasn't converged yet.\n",
            "  % self.max_iter, ConvergenceWarning)\n",
            "/usr/local/lib/python3.6/dist-packages/sklearn/neural_network/_multilayer_perceptron.py:571: ConvergenceWarning: Stochastic Optimizer: Maximum iterations (200) reached and the optimization hasn't converged yet.\n",
            "  % self.max_iter, ConvergenceWarning)\n"
          ],
          "name": "stderr"
        },
        {
          "output_type": "stream",
          "text": [
            "| \u001b[0m 13      \u001b[0m | \u001b[0m 0.2823  \u001b[0m | \u001b[0m 0.2663  \u001b[0m | \u001b[0m 114.2   \u001b[0m | \u001b[0m 0.9725  \u001b[0m |\n"
          ],
          "name": "stdout"
        },
        {
          "output_type": "stream",
          "text": [
            "/usr/local/lib/python3.6/dist-packages/sklearn/neural_network/_multilayer_perceptron.py:571: ConvergenceWarning: Stochastic Optimizer: Maximum iterations (200) reached and the optimization hasn't converged yet.\n",
            "  % self.max_iter, ConvergenceWarning)\n"
          ],
          "name": "stderr"
        },
        {
          "output_type": "stream",
          "text": [
            "| \u001b[0m 14      \u001b[0m | \u001b[0m 0.1078  \u001b[0m | \u001b[0m 0.0564  \u001b[0m | \u001b[0m 115.8   \u001b[0m | \u001b[0m 0.1561  \u001b[0m |\n"
          ],
          "name": "stdout"
        },
        {
          "output_type": "stream",
          "text": [
            "/usr/local/lib/python3.6/dist-packages/sklearn/neural_network/_multilayer_perceptron.py:571: ConvergenceWarning: Stochastic Optimizer: Maximum iterations (200) reached and the optimization hasn't converged yet.\n",
            "  % self.max_iter, ConvergenceWarning)\n",
            "/usr/local/lib/python3.6/dist-packages/sklearn/neural_network/_multilayer_perceptron.py:571: ConvergenceWarning: Stochastic Optimizer: Maximum iterations (200) reached and the optimization hasn't converged yet.\n",
            "  % self.max_iter, ConvergenceWarning)\n",
            "/usr/local/lib/python3.6/dist-packages/sklearn/neural_network/_multilayer_perceptron.py:571: ConvergenceWarning: Stochastic Optimizer: Maximum iterations (200) reached and the optimization hasn't converged yet.\n",
            "  % self.max_iter, ConvergenceWarning)\n",
            "/usr/local/lib/python3.6/dist-packages/sklearn/neural_network/_multilayer_perceptron.py:571: ConvergenceWarning: Stochastic Optimizer: Maximum iterations (200) reached and the optimization hasn't converged yet.\n",
            "  % self.max_iter, ConvergenceWarning)\n",
            "/usr/local/lib/python3.6/dist-packages/sklearn/neural_network/_multilayer_perceptron.py:571: ConvergenceWarning: Stochastic Optimizer: Maximum iterations (200) reached and the optimization hasn't converged yet.\n",
            "  % self.max_iter, ConvergenceWarning)\n"
          ],
          "name": "stderr"
        },
        {
          "output_type": "stream",
          "text": [
            "| \u001b[0m 15      \u001b[0m | \u001b[0m-0.09257 \u001b[0m | \u001b[0m 0.0791  \u001b[0m | \u001b[0m 109.7   \u001b[0m | \u001b[0m 0.5299  \u001b[0m |\n"
          ],
          "name": "stdout"
        },
        {
          "output_type": "stream",
          "text": [
            "/usr/local/lib/python3.6/dist-packages/sklearn/neural_network/_multilayer_perceptron.py:571: ConvergenceWarning: Stochastic Optimizer: Maximum iterations (200) reached and the optimization hasn't converged yet.\n",
            "  % self.max_iter, ConvergenceWarning)\n",
            "/usr/local/lib/python3.6/dist-packages/sklearn/neural_network/_multilayer_perceptron.py:571: ConvergenceWarning: Stochastic Optimizer: Maximum iterations (200) reached and the optimization hasn't converged yet.\n",
            "  % self.max_iter, ConvergenceWarning)\n",
            "/usr/local/lib/python3.6/dist-packages/sklearn/neural_network/_multilayer_perceptron.py:571: ConvergenceWarning: Stochastic Optimizer: Maximum iterations (200) reached and the optimization hasn't converged yet.\n",
            "  % self.max_iter, ConvergenceWarning)\n",
            "/usr/local/lib/python3.6/dist-packages/sklearn/neural_network/_multilayer_perceptron.py:571: ConvergenceWarning: Stochastic Optimizer: Maximum iterations (200) reached and the optimization hasn't converged yet.\n",
            "  % self.max_iter, ConvergenceWarning)\n"
          ],
          "name": "stderr"
        },
        {
          "output_type": "stream",
          "text": [
            "| \u001b[0m 16      \u001b[0m | \u001b[0m-0.05146 \u001b[0m | \u001b[0m 0.08664 \u001b[0m | \u001b[0m 118.3   \u001b[0m | \u001b[0m 0.9661  \u001b[0m |\n",
            "| \u001b[0m 17      \u001b[0m | \u001b[0m-0.5327  \u001b[0m | \u001b[0m 0.2969  \u001b[0m | \u001b[0m 58.58   \u001b[0m | \u001b[0m 0.07666 \u001b[0m |\n"
          ],
          "name": "stdout"
        },
        {
          "output_type": "stream",
          "text": [
            "/usr/local/lib/python3.6/dist-packages/sklearn/neural_network/_multilayer_perceptron.py:571: ConvergenceWarning: Stochastic Optimizer: Maximum iterations (200) reached and the optimization hasn't converged yet.\n",
            "  % self.max_iter, ConvergenceWarning)\n",
            "/usr/local/lib/python3.6/dist-packages/sklearn/neural_network/_multilayer_perceptron.py:571: ConvergenceWarning: Stochastic Optimizer: Maximum iterations (200) reached and the optimization hasn't converged yet.\n",
            "  % self.max_iter, ConvergenceWarning)\n",
            "/usr/local/lib/python3.6/dist-packages/sklearn/neural_network/_multilayer_perceptron.py:571: ConvergenceWarning: Stochastic Optimizer: Maximum iterations (200) reached and the optimization hasn't converged yet.\n",
            "  % self.max_iter, ConvergenceWarning)\n",
            "/usr/local/lib/python3.6/dist-packages/sklearn/neural_network/_multilayer_perceptron.py:571: ConvergenceWarning: Stochastic Optimizer: Maximum iterations (200) reached and the optimization hasn't converged yet.\n",
            "  % self.max_iter, ConvergenceWarning)\n",
            "/usr/local/lib/python3.6/dist-packages/sklearn/neural_network/_multilayer_perceptron.py:571: ConvergenceWarning: Stochastic Optimizer: Maximum iterations (200) reached and the optimization hasn't converged yet.\n",
            "  % self.max_iter, ConvergenceWarning)\n"
          ],
          "name": "stderr"
        },
        {
          "output_type": "stream",
          "text": [
            "| \u001b[0m 18      \u001b[0m | \u001b[0m 0.07295 \u001b[0m | \u001b[0m 0.1179  \u001b[0m | \u001b[0m 94.56   \u001b[0m | \u001b[0m 0.7638  \u001b[0m |\n",
            "| \u001b[0m 19      \u001b[0m | \u001b[0m-0.5019  \u001b[0m | \u001b[0m 0.1723  \u001b[0m | \u001b[0m 96.97   \u001b[0m | \u001b[0m 0.05128 \u001b[0m |\n"
          ],
          "name": "stdout"
        },
        {
          "output_type": "stream",
          "text": [
            "/usr/local/lib/python3.6/dist-packages/sklearn/neural_network/_multilayer_perceptron.py:571: ConvergenceWarning: Stochastic Optimizer: Maximum iterations (200) reached and the optimization hasn't converged yet.\n",
            "  % self.max_iter, ConvergenceWarning)\n",
            "/usr/local/lib/python3.6/dist-packages/sklearn/neural_network/_multilayer_perceptron.py:571: ConvergenceWarning: Stochastic Optimizer: Maximum iterations (200) reached and the optimization hasn't converged yet.\n",
            "  % self.max_iter, ConvergenceWarning)\n",
            "/usr/local/lib/python3.6/dist-packages/sklearn/neural_network/_multilayer_perceptron.py:571: ConvergenceWarning: Stochastic Optimizer: Maximum iterations (200) reached and the optimization hasn't converged yet.\n",
            "  % self.max_iter, ConvergenceWarning)\n",
            "/usr/local/lib/python3.6/dist-packages/sklearn/neural_network/_multilayer_perceptron.py:571: ConvergenceWarning: Stochastic Optimizer: Maximum iterations (200) reached and the optimization hasn't converged yet.\n",
            "  % self.max_iter, ConvergenceWarning)\n"
          ],
          "name": "stderr"
        },
        {
          "output_type": "stream",
          "text": [
            "| \u001b[0m 20      \u001b[0m | \u001b[0m 0.3167  \u001b[0m | \u001b[0m 0.1784  \u001b[0m | \u001b[0m 92.27   \u001b[0m | \u001b[0m 0.9519  \u001b[0m |\n"
          ],
          "name": "stdout"
        },
        {
          "output_type": "stream",
          "text": [
            "/usr/local/lib/python3.6/dist-packages/sklearn/neural_network/_multilayer_perceptron.py:571: ConvergenceWarning: Stochastic Optimizer: Maximum iterations (200) reached and the optimization hasn't converged yet.\n",
            "  % self.max_iter, ConvergenceWarning)\n",
            "/usr/local/lib/python3.6/dist-packages/sklearn/neural_network/_multilayer_perceptron.py:571: ConvergenceWarning: Stochastic Optimizer: Maximum iterations (200) reached and the optimization hasn't converged yet.\n",
            "  % self.max_iter, ConvergenceWarning)\n",
            "/usr/local/lib/python3.6/dist-packages/sklearn/neural_network/_multilayer_perceptron.py:571: ConvergenceWarning: Stochastic Optimizer: Maximum iterations (200) reached and the optimization hasn't converged yet.\n",
            "  % self.max_iter, ConvergenceWarning)\n",
            "/usr/local/lib/python3.6/dist-packages/sklearn/neural_network/_multilayer_perceptron.py:571: ConvergenceWarning: Stochastic Optimizer: Maximum iterations (200) reached and the optimization hasn't converged yet.\n",
            "  % self.max_iter, ConvergenceWarning)\n",
            "/usr/local/lib/python3.6/dist-packages/sklearn/neural_network/_multilayer_perceptron.py:571: ConvergenceWarning: Stochastic Optimizer: Maximum iterations (200) reached and the optimization hasn't converged yet.\n",
            "  % self.max_iter, ConvergenceWarning)\n"
          ],
          "name": "stderr"
        },
        {
          "output_type": "stream",
          "text": [
            "| \u001b[0m 21      \u001b[0m | \u001b[0m 0.008539\u001b[0m | \u001b[0m 0.4     \u001b[0m | \u001b[0m 90.87   \u001b[0m | \u001b[0m 1e-05   \u001b[0m |\n"
          ],
          "name": "stdout"
        },
        {
          "output_type": "stream",
          "text": [
            "/usr/local/lib/python3.6/dist-packages/sklearn/neural_network/_multilayer_perceptron.py:571: ConvergenceWarning: Stochastic Optimizer: Maximum iterations (200) reached and the optimization hasn't converged yet.\n",
            "  % self.max_iter, ConvergenceWarning)\n",
            "/usr/local/lib/python3.6/dist-packages/sklearn/neural_network/_multilayer_perceptron.py:571: ConvergenceWarning: Stochastic Optimizer: Maximum iterations (200) reached and the optimization hasn't converged yet.\n",
            "  % self.max_iter, ConvergenceWarning)\n",
            "/usr/local/lib/python3.6/dist-packages/sklearn/neural_network/_multilayer_perceptron.py:571: ConvergenceWarning: Stochastic Optimizer: Maximum iterations (200) reached and the optimization hasn't converged yet.\n",
            "  % self.max_iter, ConvergenceWarning)\n",
            "/usr/local/lib/python3.6/dist-packages/sklearn/neural_network/_multilayer_perceptron.py:571: ConvergenceWarning: Stochastic Optimizer: Maximum iterations (200) reached and the optimization hasn't converged yet.\n",
            "  % self.max_iter, ConvergenceWarning)\n"
          ],
          "name": "stderr"
        },
        {
          "output_type": "stream",
          "text": [
            "| \u001b[0m 22      \u001b[0m | \u001b[0m 0.2551  \u001b[0m | \u001b[0m 0.1564  \u001b[0m | \u001b[0m 193.6   \u001b[0m | \u001b[0m 0.9409  \u001b[0m |\n"
          ],
          "name": "stdout"
        },
        {
          "output_type": "stream",
          "text": [
            "/usr/local/lib/python3.6/dist-packages/sklearn/neural_network/_multilayer_perceptron.py:571: ConvergenceWarning: Stochastic Optimizer: Maximum iterations (200) reached and the optimization hasn't converged yet.\n",
            "  % self.max_iter, ConvergenceWarning)\n",
            "/usr/local/lib/python3.6/dist-packages/sklearn/neural_network/_multilayer_perceptron.py:571: ConvergenceWarning: Stochastic Optimizer: Maximum iterations (200) reached and the optimization hasn't converged yet.\n",
            "  % self.max_iter, ConvergenceWarning)\n",
            "/usr/local/lib/python3.6/dist-packages/sklearn/neural_network/_multilayer_perceptron.py:571: ConvergenceWarning: Stochastic Optimizer: Maximum iterations (200) reached and the optimization hasn't converged yet.\n",
            "  % self.max_iter, ConvergenceWarning)\n",
            "/usr/local/lib/python3.6/dist-packages/sklearn/neural_network/_multilayer_perceptron.py:571: ConvergenceWarning: Stochastic Optimizer: Maximum iterations (200) reached and the optimization hasn't converged yet.\n",
            "  % self.max_iter, ConvergenceWarning)\n"
          ],
          "name": "stderr"
        },
        {
          "output_type": "stream",
          "text": [
            "| \u001b[0m 23      \u001b[0m | \u001b[0m-0.04792 \u001b[0m | \u001b[0m 0.1523  \u001b[0m | \u001b[0m 191.8   \u001b[0m | \u001b[0m 0.6198  \u001b[0m |\n"
          ],
          "name": "stdout"
        },
        {
          "output_type": "stream",
          "text": [
            "/usr/local/lib/python3.6/dist-packages/sklearn/neural_network/_multilayer_perceptron.py:571: ConvergenceWarning: Stochastic Optimizer: Maximum iterations (200) reached and the optimization hasn't converged yet.\n",
            "  % self.max_iter, ConvergenceWarning)\n",
            "/usr/local/lib/python3.6/dist-packages/sklearn/neural_network/_multilayer_perceptron.py:571: ConvergenceWarning: Stochastic Optimizer: Maximum iterations (200) reached and the optimization hasn't converged yet.\n",
            "  % self.max_iter, ConvergenceWarning)\n",
            "/usr/local/lib/python3.6/dist-packages/sklearn/neural_network/_multilayer_perceptron.py:571: ConvergenceWarning: Stochastic Optimizer: Maximum iterations (200) reached and the optimization hasn't converged yet.\n",
            "  % self.max_iter, ConvergenceWarning)\n",
            "/usr/local/lib/python3.6/dist-packages/sklearn/neural_network/_multilayer_perceptron.py:571: ConvergenceWarning: Stochastic Optimizer: Maximum iterations (200) reached and the optimization hasn't converged yet.\n",
            "  % self.max_iter, ConvergenceWarning)\n",
            "/usr/local/lib/python3.6/dist-packages/sklearn/neural_network/_multilayer_perceptron.py:571: ConvergenceWarning: Stochastic Optimizer: Maximum iterations (200) reached and the optimization hasn't converged yet.\n",
            "  % self.max_iter, ConvergenceWarning)\n"
          ],
          "name": "stderr"
        },
        {
          "output_type": "stream",
          "text": [
            "| \u001b[0m 24      \u001b[0m | \u001b[0m 0.1172  \u001b[0m | \u001b[0m 0.2853  \u001b[0m | \u001b[0m 195.5   \u001b[0m | \u001b[0m 0.6979  \u001b[0m |\n"
          ],
          "name": "stdout"
        },
        {
          "output_type": "stream",
          "text": [
            "/usr/local/lib/python3.6/dist-packages/sklearn/neural_network/_multilayer_perceptron.py:571: ConvergenceWarning: Stochastic Optimizer: Maximum iterations (200) reached and the optimization hasn't converged yet.\n",
            "  % self.max_iter, ConvergenceWarning)\n",
            "/usr/local/lib/python3.6/dist-packages/sklearn/neural_network/_multilayer_perceptron.py:571: ConvergenceWarning: Stochastic Optimizer: Maximum iterations (200) reached and the optimization hasn't converged yet.\n",
            "  % self.max_iter, ConvergenceWarning)\n",
            "/usr/local/lib/python3.6/dist-packages/sklearn/neural_network/_multilayer_perceptron.py:571: ConvergenceWarning: Stochastic Optimizer: Maximum iterations (200) reached and the optimization hasn't converged yet.\n",
            "  % self.max_iter, ConvergenceWarning)\n"
          ],
          "name": "stderr"
        },
        {
          "output_type": "stream",
          "text": [
            "| \u001b[0m 25      \u001b[0m | \u001b[0m 0.241   \u001b[0m | \u001b[0m 0.2075  \u001b[0m | \u001b[0m 197.9   \u001b[0m | \u001b[0m 0.9755  \u001b[0m |\n",
            "| \u001b[0m 26      \u001b[0m | \u001b[0m 0.03863 \u001b[0m | \u001b[0m 0.3904  \u001b[0m | \u001b[0m 199.6   \u001b[0m | \u001b[0m 0.02463 \u001b[0m |\n"
          ],
          "name": "stdout"
        },
        {
          "output_type": "stream",
          "text": [
            "/usr/local/lib/python3.6/dist-packages/sklearn/neural_network/_multilayer_perceptron.py:571: ConvergenceWarning: Stochastic Optimizer: Maximum iterations (200) reached and the optimization hasn't converged yet.\n",
            "  % self.max_iter, ConvergenceWarning)\n",
            "/usr/local/lib/python3.6/dist-packages/sklearn/neural_network/_multilayer_perceptron.py:571: ConvergenceWarning: Stochastic Optimizer: Maximum iterations (200) reached and the optimization hasn't converged yet.\n",
            "  % self.max_iter, ConvergenceWarning)\n",
            "/usr/local/lib/python3.6/dist-packages/sklearn/neural_network/_multilayer_perceptron.py:571: ConvergenceWarning: Stochastic Optimizer: Maximum iterations (200) reached and the optimization hasn't converged yet.\n",
            "  % self.max_iter, ConvergenceWarning)\n"
          ],
          "name": "stderr"
        },
        {
          "output_type": "stream",
          "text": [
            "| \u001b[0m 27      \u001b[0m | \u001b[0m-0.6986  \u001b[0m | \u001b[0m 0.2569  \u001b[0m | \u001b[0m 137.6   \u001b[0m | \u001b[0m 0.8225  \u001b[0m |\n"
          ],
          "name": "stdout"
        },
        {
          "output_type": "stream",
          "text": [
            "/usr/local/lib/python3.6/dist-packages/sklearn/neural_network/_multilayer_perceptron.py:571: ConvergenceWarning: Stochastic Optimizer: Maximum iterations (200) reached and the optimization hasn't converged yet.\n",
            "  % self.max_iter, ConvergenceWarning)\n",
            "/usr/local/lib/python3.6/dist-packages/sklearn/neural_network/_multilayer_perceptron.py:571: ConvergenceWarning: Stochastic Optimizer: Maximum iterations (200) reached and the optimization hasn't converged yet.\n",
            "  % self.max_iter, ConvergenceWarning)\n",
            "/usr/local/lib/python3.6/dist-packages/sklearn/neural_network/_multilayer_perceptron.py:571: ConvergenceWarning: Stochastic Optimizer: Maximum iterations (200) reached and the optimization hasn't converged yet.\n",
            "  % self.max_iter, ConvergenceWarning)\n"
          ],
          "name": "stderr"
        },
        {
          "output_type": "stream",
          "text": [
            "| \u001b[0m 28      \u001b[0m | \u001b[0m 0.06669 \u001b[0m | \u001b[0m 0.216   \u001b[0m | \u001b[0m 15.37   \u001b[0m | \u001b[0m 0.7379  \u001b[0m |\n"
          ],
          "name": "stdout"
        },
        {
          "output_type": "stream",
          "text": [
            "/usr/local/lib/python3.6/dist-packages/sklearn/neural_network/_multilayer_perceptron.py:571: ConvergenceWarning: Stochastic Optimizer: Maximum iterations (200) reached and the optimization hasn't converged yet.\n",
            "  % self.max_iter, ConvergenceWarning)\n",
            "/usr/local/lib/python3.6/dist-packages/sklearn/neural_network/_multilayer_perceptron.py:571: ConvergenceWarning: Stochastic Optimizer: Maximum iterations (200) reached and the optimization hasn't converged yet.\n",
            "  % self.max_iter, ConvergenceWarning)\n",
            "/usr/local/lib/python3.6/dist-packages/sklearn/neural_network/_multilayer_perceptron.py:571: ConvergenceWarning: Stochastic Optimizer: Maximum iterations (200) reached and the optimization hasn't converged yet.\n",
            "  % self.max_iter, ConvergenceWarning)\n",
            "/usr/local/lib/python3.6/dist-packages/sklearn/neural_network/_multilayer_perceptron.py:571: ConvergenceWarning: Stochastic Optimizer: Maximum iterations (200) reached and the optimization hasn't converged yet.\n",
            "  % self.max_iter, ConvergenceWarning)\n",
            "/usr/local/lib/python3.6/dist-packages/sklearn/neural_network/_multilayer_perceptron.py:571: ConvergenceWarning: Stochastic Optimizer: Maximum iterations (200) reached and the optimization hasn't converged yet.\n",
            "  % self.max_iter, ConvergenceWarning)\n"
          ],
          "name": "stderr"
        },
        {
          "output_type": "stream",
          "text": [
            "| \u001b[0m 29      \u001b[0m | \u001b[0m-4.441e-1\u001b[0m | \u001b[0m 0.3778  \u001b[0m | \u001b[0m 12.74   \u001b[0m | \u001b[0m 0.8051  \u001b[0m |\n"
          ],
          "name": "stdout"
        },
        {
          "output_type": "stream",
          "text": [
            "/usr/local/lib/python3.6/dist-packages/sklearn/neural_network/_multilayer_perceptron.py:571: ConvergenceWarning: Stochastic Optimizer: Maximum iterations (200) reached and the optimization hasn't converged yet.\n",
            "  % self.max_iter, ConvergenceWarning)\n",
            "/usr/local/lib/python3.6/dist-packages/sklearn/neural_network/_multilayer_perceptron.py:571: ConvergenceWarning: Stochastic Optimizer: Maximum iterations (200) reached and the optimization hasn't converged yet.\n",
            "  % self.max_iter, ConvergenceWarning)\n",
            "/usr/local/lib/python3.6/dist-packages/sklearn/neural_network/_multilayer_perceptron.py:571: ConvergenceWarning: Stochastic Optimizer: Maximum iterations (200) reached and the optimization hasn't converged yet.\n",
            "  % self.max_iter, ConvergenceWarning)\n"
          ],
          "name": "stderr"
        },
        {
          "output_type": "stream",
          "text": [
            "| \u001b[0m 30      \u001b[0m | \u001b[0m 0.1698  \u001b[0m | \u001b[0m 0.1482  \u001b[0m | \u001b[0m 18.0    \u001b[0m | \u001b[0m 0.5876  \u001b[0m |\n"
          ],
          "name": "stdout"
        },
        {
          "output_type": "stream",
          "text": [
            "/usr/local/lib/python3.6/dist-packages/sklearn/neural_network/_multilayer_perceptron.py:571: ConvergenceWarning: Stochastic Optimizer: Maximum iterations (200) reached and the optimization hasn't converged yet.\n",
            "  % self.max_iter, ConvergenceWarning)\n"
          ],
          "name": "stderr"
        },
        {
          "output_type": "stream",
          "text": [
            "| \u001b[0m 31      \u001b[0m | \u001b[0m 0.02945 \u001b[0m | \u001b[0m 0.01158 \u001b[0m | \u001b[0m 20.17   \u001b[0m | \u001b[0m 0.5388  \u001b[0m |\n",
            "| \u001b[0m 32      \u001b[0m | \u001b[0m-0.316   \u001b[0m | \u001b[0m 0.3664  \u001b[0m | \u001b[0m 23.54   \u001b[0m | \u001b[0m 0.05381 \u001b[0m |\n",
            "=============================================================\n",
            "{'target': 0.39754287245944814, 'params': {'alpha': 0.3472012799518943, 'hidden_layer_sizes': 77.29277380165142, 'learning_rate_init': 0.9794568375781991}}\n"
          ],
          "name": "stdout"
        }
      ]
    },
    {
      "cell_type": "markdown",
      "metadata": {
        "id": "RMX4wqpqVRJI",
        "colab_type": "text"
      },
      "source": [
        "**Ordinary Least Squares:**"
      ]
    },
    {
      "cell_type": "code",
      "metadata": {
        "id": "uMcHvFwMT3Ou",
        "colab_type": "code",
        "colab": {}
      },
      "source": [
        "model_OLS = linear_model.LinearRegression()\n",
        "model_OLS.fit(train_data_numpy, train_target_numpy)\n",
        "model_list.append(model_OLS)"
      ],
      "execution_count": 0,
      "outputs": []
    },
    {
      "cell_type": "markdown",
      "metadata": {
        "id": "XC6vHDdOVkBA",
        "colab_type": "text"
      },
      "source": [
        "**Plot:**"
      ]
    },
    {
      "cell_type": "code",
      "metadata": {
        "id": "iM9hmafAhHVh",
        "colab_type": "code",
        "colab": {
          "base_uri": "https://localhost:8080/",
          "height": 297
        },
        "outputId": "c990812c-7fd6-4471-c96f-53fafe404a1f"
      },
      "source": [
        "time = test_data_torch.cpu().squeeze().detach().numpy()[:,0]\n",
        "\n",
        "fig = plt.figure('All models')\n",
        "colorlist = ['#c51b7d', '#e9a3c9', '#fde0ef', '#e6f5d0', '#a1d76a', '#4d9221']\n",
        "#colorlist = colorlist[::-1]\n",
        "plt.plot(time, test_target_numpy, linestyle='-', linewidth=3, label='True', color=colorlist[-1])\n",
        "for i,model in enumerate(model_list):\n",
        "  if i == 0:\n",
        "    prediction = model(test_data_torch).squeeze(dim=1).detach().cpu().numpy()\n",
        "    plt.plot(time, prediction, linestyle='-',label=f'{model}'.split('(')[0].replace('Tagger',''), color=colorlist[i])\n",
        "  elif i == len(model_list)-1:\n",
        "    plt.plot(time, model.predict(test_data_numpy),linestyle='-',label=f'{model}'.split('(')[0].replace('Regression',''), color=colorlist[i])\n",
        "  else:\n",
        "    plt.plot(time, model.predict(test_data_numpy),linestyle='-',label=f'{model}'.split('(')[0].replace('Regressor',''), color=colorlist[i])\n",
        "plt.legend(loc='best')\n",
        "plt.title(f\"Testing on {name.replace('scaled.txt','')}\")\n",
        "plt.xlabel('Scaled time')\n",
        "plt.ylabel('Scaled drift')\n",
        "plt.style.use('seaborn-white')\n",
        "plt.style.use('seaborn-ticks')\n",
        "fig.patch.set_facecolor('#f2f2f2')\n",
        "plt.show()"
      ],
      "execution_count": 41,
      "outputs": [
        {
          "output_type": "display_data",
          "data": {
            "image/png": "[encoded data removed]",
            "text/plain": [
              "<Figure size 432x288 with 1 Axes>"
            ]
          },
          "metadata": {
            "tags": []
          }
        }
      ]
    },
    {
      "cell_type": "code",
      "metadata": {
        "id": "ywSe4IbvP0ob",
        "colab_type": "code",
        "colab": {}
      },
      "source": [
        ""
      ],
      "execution_count": 0,
      "outputs": []
    }
  ]
}