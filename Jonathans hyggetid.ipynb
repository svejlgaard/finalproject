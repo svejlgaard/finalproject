{
 "cells": [
  {
   "cell_type": "code",
   "execution_count": 1,
   "metadata": {},
   "outputs": [
    {
     "name": "stdout",
     "output_type": "stream",
     "text": [
      "What is your name? [Simone/Jonathan/Marcus/Runi]Jonathan\n"
     ]
    }
   ],
   "source": [
    "%run -i \"loaddata.py\"\n",
    "plt.rcParams[\"font.size\"] = 13\n",
    "import scipy.stats as st\n",
    "save = False"
   ]
  },
  {
   "cell_type": "code",
   "execution_count": null,
   "metadata": {},
   "outputs": [],
   "source": []
  },
  {
   "cell_type": "code",
   "execution_count": null,
   "metadata": {},
   "outputs": [],
   "source": [
    "# Collect all data into 1 array\n",
    "keys = tuple(data_dict.keys())[::2]\n",
    "\n",
    "data = []\n",
    "for key in keys:\n",
    "    for vec in list(data_dict[key]):\n",
    "        if not np.isnan(vec[0]):\n",
    "            data.append(vec)\n",
    "data = np.array(data)\n",
    "\n",
    "features = data_dict[ list(data_dict.keys())[1] ]"
   ]
  }
 ],
 "metadata": {
  "kernelspec": {
   "display_name": "Python 3",
   "language": "python",
   "name": "python3"
  },
  "language_info": {
   "codemirror_mode": {
    "name": "ipython",
    "version": 3
   },
   "file_extension": ".py",
   "mimetype": "text/x-python",
   "name": "python",
   "nbconvert_exporter": "python",
   "pygments_lexer": "ipython3",
   "version": "3.7.6"
  }
 },
 "nbformat": 4,
 "nbformat_minor": 4
}
